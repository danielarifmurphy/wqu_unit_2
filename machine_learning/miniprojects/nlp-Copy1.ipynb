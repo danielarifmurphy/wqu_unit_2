{
 "cells": [
  {
   "cell_type": "code",
   "execution_count": 14,
   "metadata": {
    "init_cell": true
   },
   "outputs": [],
   "source": [
    "%logstop\n",
    "%logstart -rtq ~/.logs/nlp.py append\n",
    "%matplotlib inline\n",
    "import matplotlib\n",
    "import seaborn as sns\n",
    "sns.set()\n",
    "matplotlib.rcParams['figure.dpi'] = 144"
   ]
  },
  {
   "cell_type": "code",
   "execution_count": 15,
   "metadata": {},
   "outputs": [],
   "source": [
    "from static_grader import grader"
   ]
  },
  {
   "cell_type": "markdown",
   "metadata": {},
   "source": [
    "# NLP Miniproject"
   ]
  },
  {
   "cell_type": "markdown",
   "metadata": {},
   "source": [
    "## Introduction\n",
    "\n",
    "The objective of this miniproject is to gain experience with natural language processing and how to use text data to train a machine learning model to make predictions. For the miniproject, we will be working with product review text from Amazon. The reviews are for only products in the \"Electronics\" category. The objective is to train a model to predict the rating, ranging from 1 to 5 stars.\n",
    "\n",
    "## Scoring\n",
    "\n",
    "For most of the questions, you will be asked to submit the `predict` method of your trained model to the grader. The grader will use the passed `predict` method to evaluate how your model performs on a test set with respect to a reference model. The grader uses the [R<sup>2</sup>-score](https://scikit-learn.org/stable/modules/model_evaluation.html#r2-score) for model evaluation. If your model performs better than the reference solution, then you can score higher than 1.0. For the last question, you will submit the result of an analysis and your passed answer will be compared directly to the reference solution.\n",
    "\n",
    "## Downloading and loading the data\n",
    "\n",
    "The data set is available on Amazon S3 and comes as a compressed file where each line is a JSON object. To load the data set, we will need to use the `gzip` library to open the file and decode each JSON into a Python dictionary. In the end, we have a list of dictionaries, where each dictionary represents an observation."
   ]
  },
  {
   "cell_type": "code",
   "execution_count": 16,
   "metadata": {},
   "outputs": [
    {
     "name": "stderr",
     "output_type": "stream",
     "text": [
      "mkdir: cannot create directory ‘data’: File exists\n",
      "File ‘./data/amazon_electronics_reviews_training.json.gz’ already there; not retrieving.\n",
      "\n"
     ]
    }
   ],
   "source": [
    "%%bash\n",
    "mkdir data\n",
    "wget http://dataincubator-wqu.s3.amazonaws.com/mldata/amazon_electronics_reviews_training.json.gz -nc -P ./data"
   ]
  },
  {
   "cell_type": "code",
   "execution_count": 17,
   "metadata": {},
   "outputs": [],
   "source": [
    "import gzip\n",
    "import ujson as json\n",
    "\n",
    "with gzip.open(\"data/amazon_electronics_reviews_training.json.gz\", \"r\") as f:                                  \n",
    "    data = [json.loads(line) for line in f]"
   ]
  },
  {
   "cell_type": "code",
   "execution_count": 14,
   "metadata": {},
   "outputs": [
    {
     "data": {
      "text/plain": [
       "{'reviewerID': 'A238V1XTSK9NFE',\n",
       " 'asin': 'B00004VX3T',\n",
       " 'reviewerName': 'Andrew Lynn',\n",
       " 'helpful': [2, 2],\n",
       " 'reviewText': \"I bought this mouse to use with my laptop because I don't like those little touchpads.  I could not be happier.Since it's USB, I can plug it in with the computer already on and expect it to work automatically.  Since it's optical (the new kind, not to be confused with the old Sun optical mice that required a special checkered mouse pad) it works on most surfaces, including my pant legs, my couch, and random tables that I put my laptop down on.  It's also light and durable, features that help with portability.The wheel is surprisingly useful.  In addition to scrolling, it controls zoom and pan in programs like Autocad and 3D Studio Max.  I can no longer bear using either of these programs without it.One complaint - the software included with the Internet navigation features is useless.  Don't bother installing it if you have a newer Windows version that automatically supports wheel mice.  Just plug it in and use it - it's that easy.\",\n",
       " 'overall': 5.0,\n",
       " 'summary': 'Excellent mouse for laptop users',\n",
       " 'unixReviewTime': 1007942400,\n",
       " 'reviewTime': '12 10, 2001'}"
      ]
     },
     "execution_count": 14,
     "metadata": {},
     "output_type": "execute_result"
    }
   ],
   "source": [
    "data[0]\n",
    "# 'reviewText' is the key corresponding to the actual document"
   ]
  },
  {
   "cell_type": "markdown",
   "metadata": {},
   "source": [
    "The ratings are stored in the keyword `\"overall\"`. You should create an array of the ratings for each review, preferably using list comprehensions."
   ]
  },
  {
   "cell_type": "code",
   "execution_count": 18,
   "metadata": {},
   "outputs": [],
   "source": [
    "ratings = [x['overall'] for x in data]"
   ]
  },
  {
   "cell_type": "code",
   "execution_count": 13,
   "metadata": {},
   "outputs": [
    {
     "data": {
      "text/plain": [
       "[5.0, 1.0, 4.0, 5.0, 3.0, 5.0, 3.0, 5.0, 4.0, 5.0]"
      ]
     },
     "execution_count": 13,
     "metadata": {},
     "output_type": "execute_result"
    }
   ],
   "source": [
    "ratings[:10]"
   ]
  },
  {
   "cell_type": "markdown",
   "metadata": {},
   "source": [
    "**Note**, the test set used by the grader is in the same format as that of `data`, a list of dictionaries. Your trained model needs to accept data in the same format. Thus, you should use `Pipeline` when constructing your model so that all necessary transformation needed are encapsulated into a single estimator object."
   ]
  },
  {
   "cell_type": "markdown",
   "metadata": {},
   "source": [
    "## Question 1: Bag of words model\n",
    "\n",
    "Construct a machine learning model trained on word counts using the bag of words algorithm. Remember, the bag of words is implemented with `CountVectorizer`. Some things you should consider:\n",
    "\n",
    "* The reference solution uses a linear model and you should as well; use either `Ridge` or `SGDRegressor`.\n",
    "* The text review is stored in the key `\"reviewText\"`. You will need to construct a custom transformer to extract out the value of this key. It will be the first step in your pipeline.\n",
    "* Consider what hyperparameters you will need to tune for your model.\n",
    "* Subsampling the training data will boost training times, which will be helpful when determining the best hyperparameters to use. Note, your final model will perform best if it is trained on the full data set.\n",
    "* Including stop words may help with performance."
   ]
  },
  {
   "cell_type": "code",
   "execution_count": 19,
   "metadata": {},
   "outputs": [],
   "source": [
    "from sklearn.base import BaseEstimator, TransformerMixin"
   ]
  },
  {
   "cell_type": "code",
   "execution_count": 20,
   "metadata": {},
   "outputs": [],
   "source": [
    "# create custom transformer to extract 'reviewText' key's value\n",
    "\n",
    "class KeySelector(BaseEstimator, TransformerMixin):\n",
    "    def __init__(self, key):\n",
    "        self.key = key\n",
    "        \n",
    "    def fit(self, X, y=None):\n",
    "        return self # don't need to train anything yet\n",
    "    \n",
    "    def transform(self, X):\n",
    "        return [row[self.key] for row in X]"
   ]
  },
  {
   "cell_type": "code",
   "execution_count": 21,
   "metadata": {},
   "outputs": [],
   "source": [
    "from sklearn.feature_extraction.text import CountVectorizer\n",
    "from sklearn.linear_model import Ridge\n",
    "from sklearn.pipeline import Pipeline\n",
    "from sklearn.model_selection import GridSearchCV\n",
    "from spacy.lang.en import STOP_WORDS\n",
    "import numpy as np"
   ]
  },
  {
   "cell_type": "code",
   "execution_count": 37,
   "metadata": {},
   "outputs": [],
   "source": [
    "bag_of_words_model = Pipeline([\n",
    "    ('get_text', KeySelector('reviewText')),\n",
    "    ('vectorizer', CountVectorizer(stop_words=STOP_WORDS)),\n",
    "    ('ridge', GridSearchCV(Ridge(),\n",
    "                           param_grid={'alpha': np.logspace(2, 3, 4)},\n",
    "                           cv=5, n_jobs=2, verbose=1))\n",
    "])\n",
    "\n",
    "# NLP long training times - huge feature matrices"
   ]
  },
  {
   "cell_type": "code",
   "execution_count": 38,
   "metadata": {},
   "outputs": [
    {
     "name": "stdout",
     "output_type": "stream",
     "text": [
      "Fitting 5 folds for each of 4 candidates, totalling 20 fits\n"
     ]
    },
    {
     "name": "stderr",
     "output_type": "stream",
     "text": [
      "[Parallel(n_jobs=2)]: Using backend LokyBackend with 2 concurrent workers.\n",
      "[Parallel(n_jobs=2)]: Done  20 out of  20 | elapsed:  2.4min finished\n"
     ]
    },
    {
     "data": {
      "text/plain": [
       "Pipeline(memory=None,\n",
       "         steps=[('get_text', KeySelector(key='reviewText')),\n",
       "                ('vectorizer',\n",
       "                 CountVectorizer(analyzer='word', binary=False,\n",
       "                                 decode_error='strict',\n",
       "                                 dtype=<class 'numpy.int64'>, encoding='utf-8',\n",
       "                                 input='content', lowercase=True, max_df=1.0,\n",
       "                                 max_features=None, min_df=1,\n",
       "                                 ngram_range=(1, 1), preprocessor=None,\n",
       "                                 stop_words={'a', 'about', 'above', 'across',\n",
       "                                             'after',...\n",
       "                 GridSearchCV(cv=5, error_score='raise-deprecating',\n",
       "                              estimator=Ridge(alpha=1.0, copy_X=True,\n",
       "                                              fit_intercept=True, max_iter=None,\n",
       "                                              normalize=False,\n",
       "                                              random_state=None, solver='auto',\n",
       "                                              tol=0.001),\n",
       "                              iid='warn', n_jobs=2,\n",
       "                              param_grid={'alpha': array([ 100.        ,  215.443469  ,  464.15888336, 1000.        ])},\n",
       "                              pre_dispatch='2*n_jobs', refit=True,\n",
       "                              return_train_score=False, scoring=None,\n",
       "                              verbose=1))],\n",
       "         verbose=False)"
      ]
     },
     "execution_count": 38,
     "metadata": {},
     "output_type": "execute_result"
    }
   ],
   "source": [
    "bag_of_words_model.fit(data, ratings)\n",
    "\n",
    "# 2.4 mins"
   ]
  },
  {
   "cell_type": "code",
   "execution_count": 39,
   "metadata": {},
   "outputs": [
    {
     "data": {
      "text/plain": [
       "0.4115630407078624"
      ]
     },
     "execution_count": 39,
     "metadata": {},
     "output_type": "execute_result"
    }
   ],
   "source": [
    "bag_of_words_model.score(data, ratings)\n",
    "\n",
    "# low R^2 (calculated on train data) but high grader score - does not overfit!"
   ]
  },
  {
   "cell_type": "code",
   "execution_count": 45,
   "metadata": {},
   "outputs": [
    {
     "data": {
      "text/plain": [
       "{'alpha': 215.44346900318845}"
      ]
     },
     "execution_count": 45,
     "metadata": {},
     "output_type": "execute_result"
    }
   ],
   "source": [
    "bag_of_words_model.named_steps['ridge'].best_params_"
   ]
  },
  {
   "cell_type": "code",
   "execution_count": 46,
   "metadata": {},
   "outputs": [
    {
     "data": {
      "text/plain": [
       "array([ 100.        ,  215.443469  ,  464.15888336, 1000.        ])"
      ]
     },
     "execution_count": 46,
     "metadata": {},
     "output_type": "execute_result"
    }
   ],
   "source": [
    "np.logspace(2, 3, 4)\n",
    "\n",
    "# best alpha not at edge of grid! So need not extend range (make more ganular if good hardware)"
   ]
  },
  {
   "cell_type": "code",
   "execution_count": 41,
   "metadata": {},
   "outputs": [
    {
     "data": {
      "text/plain": [
       "{'bought': 13848,\n",
       " 'mouse': 45127,\n",
       " 'use': 71977,\n",
       " 'laptop': 40081,\n",
       " 'don': 24103,\n",
       " 'like': 41013,\n",
       " 'little': 41272,\n",
       " 'touchpads': 69241,\n",
       " 'happier': 33475,\n",
       " 'usb': 71935,\n",
       " 'plug': 51879,\n",
       " 'computer': 18659,\n",
       " 'expect': 27768,\n",
       " 'work': 75296,\n",
       " 'automatically': 11105,\n",
       " 'optical': 48484,\n",
       " 'new': 46574,\n",
       " 'kind': 39432,\n",
       " 'confused': 18956,\n",
       " 'old': 48057,\n",
       " 'sun': 65568,\n",
       " 'mice': 43803,\n",
       " 'required': 57296,\n",
       " 'special': 63371,\n",
       " 'checkered': 16771,\n",
       " 'pad': 49568,\n",
       " 'works': 75361,\n",
       " 'surfaces': 65866,\n",
       " 'including': 36405,\n",
       " 'pant': 49805,\n",
       " 'legs': 40465,\n",
       " 'couch': 19963,\n",
       " 'random': 55292,\n",
       " 'tables': 66617,\n",
       " 'light': 40910,\n",
       " 'durable': 24891,\n",
       " 'features': 28848,\n",
       " 'help': 34258,\n",
       " 'portability': 52362,\n",
       " 'wheel': 74420,\n",
       " 'surprisingly': 65929,\n",
       " 'useful': 72014,\n",
       " 'addition': 7662,\n",
       " 'scrolling': 59913,\n",
       " 'controls': 19519,\n",
       " 'zoom': 76572,\n",
       " 'pan': 49724,\n",
       " 'programs': 53688,\n",
       " 'autocad': 11058,\n",
       " '3d': 3574,\n",
       " 'studio': 65099,\n",
       " 'max': 43015,\n",
       " 'longer': 41550,\n",
       " 'bear': 12367,\n",
       " 'complaint': 18482,\n",
       " 'software': 62687,\n",
       " 'included': 36390,\n",
       " 'internet': 37515,\n",
       " 'navigation': 46147,\n",
       " 'useless': 72036,\n",
       " 'bother': 13807,\n",
       " 'installing': 37154,\n",
       " 'newer': 46588,\n",
       " 'windows': 74816,\n",
       " 'version': 72742,\n",
       " 'supports': 65791,\n",
       " 'easy': 25489,\n",
       " 'discs': 23407,\n",
       " 'went': 74266,\n",
       " 'bad': 11753,\n",
       " 'months': 44878,\n",
       " 'period': 50689,\n",
       " 'real': 55645,\n",
       " 'pain': 49618,\n",
       " 'result': 57616,\n",
       " 'tend': 67312,\n",
       " 'buy': 14825,\n",
       " 'memorex': 43490,\n",
       " 'install': 37124,\n",
       " 'complaints': 18483,\n",
       " 'decent': 21688,\n",
       " 'great': 32594,\n",
       " 'value': 72400,\n",
       " 'better': 12804,\n",
       " 'amplifier': 9104,\n",
       " 'different': 22906,\n",
       " 'brand': 14030,\n",
       " 'purchased': 54379,\n",
       " 'item': 38213,\n",
       " 'exactly': 27435,\n",
       " 'looking': 41596,\n",
       " 'low': 41752,\n",
       " 'featured': 28841,\n",
       " 'samsung': 59247,\n",
       " 'surround': 65950,\n",
       " 'sound': 63020,\n",
       " 'system': 66432,\n",
       " 'realized': 55677,\n",
       " 'needed': 46319,\n",
       " 'inputs': 37009,\n",
       " 'advantage': 7927,\n",
       " 'manual': 42641,\n",
       " 'turn': 70224,\n",
       " 'switches': 66205,\n",
       " 'looked': 41591,\n",
       " 'cheap': 16716,\n",
       " 'unusable': 71651,\n",
       " 'perfect': 50583,\n",
       " 'able': 6960,\n",
       " 'remotely': 56967,\n",
       " 'control': 19483,\n",
       " 'definitely': 21930,\n",
       " 'worth': 75425,\n",
       " 'dime': 23072,\n",
       " 'spent': 63525,\n",
       " 'replace': 57118,\n",
       " 'vcr': 72532,\n",
       " 'dvd': 25000,\n",
       " 'combo': 18061,\n",
       " 'way': 73954,\n",
       " 'run': 58795,\n",
       " 'cable': 15043,\n",
       " 'wall': 73617,\n",
       " 'rca': 55527,\n",
       " 'rest': 57566,\n",
       " 'box': 13907,\n",
       " 'coax': 17751,\n",
       " 'problem': 53433,\n",
       " 'connect': 19009,\n",
       " 'review': 57832,\n",
       " 'sabrent': 59074,\n",
       " '44': 3919,\n",
       " 'mb': 43079,\n",
       " '2x': 2938,\n",
       " 'floppy': 29845,\n",
       " 'disk': 23485,\n",
       " 'drive': 24519,\n",
       " 'fl': 29529,\n",
       " 'udrv': 70558,\n",
       " 'black': 13141,\n",
       " 'built': 14532,\n",
       " 'quality': 54677,\n",
       " 'comes': 18095,\n",
       " 'hardwired': 33543,\n",
       " 'connection': 19023,\n",
       " 'simple': 61562,\n",
       " 'setup': 60648,\n",
       " 'wait': 73574,\n",
       " 'drivers': 24541,\n",
       " 'load': 41363,\n",
       " 'hard': 33491,\n",
       " 'skys': 61913,\n",
       " 'cause': 16147,\n",
       " 'vignetting': 73023,\n",
       " 'especially': 27014,\n",
       " 'sky': 61887,\n",
       " 'showing': 61231,\n",
       " 'nikon': 46812,\n",
       " 'd90': 21159,\n",
       " '18': 1456,\n",
       " '105': 407,\n",
       " '70': 5420,\n",
       " '300': 2969,\n",
       " 'lens': 40535,\n",
       " 'possible': 52515,\n",
       " 'secrets': 60172,\n",
       " 'know': 39611,\n",
       " 'tried': 69782,\n",
       " 'shooting': 61081,\n",
       " 'expedition': 27800,\n",
       " 'll': 41309,\n",
       " 'update': 71730,\n",
       " 'suggestions': 65489,\n",
       " 'glad': 31939,\n",
       " 'hear': 34086,\n",
       " 'canon': 15559,\n",
       " 'hood': 34866,\n",
       " 'stamped': 64184,\n",
       " 'ew': 27384,\n",
       " '60c': 4990,\n",
       " 'japan': 38470,\n",
       " 'unlike': 71294,\n",
       " 'et': 27119,\n",
       " '60': 4932,\n",
       " 'got': 32301,\n",
       " 'seller': 60328,\n",
       " 'returned': 57758,\n",
       " 'material': 42941,\n",
       " 'fits': 29479,\n",
       " 'hassle': 33617,\n",
       " 'cap': 15605,\n",
       " 'installed': 37142,\n",
       " 'shorter': 61133,\n",
       " 'good': 32189,\n",
       " 'sennheiser': 60389,\n",
       " 'products': 53588,\n",
       " '1000': 234,\n",
       " 'times': 68667,\n",
       " 'bose': 13790,\n",
       " 'signal': 61437,\n",
       " 'transmits': 69567,\n",
       " 'cabinet': 15038,\n",
       " 'adjust': 7769,\n",
       " 'frequency': 30642,\n",
       " 'volume': 73293,\n",
       " 'headphones': 33985,\n",
       " 'getting': 31748,\n",
       " 'stiff': 64606,\n",
       " 'lot': 41691,\n",
       " 'fall': 28488,\n",
       " 'fantastic': 28578,\n",
       " 'sony': 62918,\n",
       " 'headset': 34047,\n",
       " 'terms': 67399,\n",
       " 'reach': 55569,\n",
       " 'room': 58444,\n",
       " 'construction': 19253,\n",
       " 'ears': 25420,\n",
       " 'warm': 73731,\n",
       " 'wear': 74042,\n",
       " 'uncomfortable': 70828,\n",
       " 'truly': 69980,\n",
       " 'remarkable': 56901,\n",
       " 'build': 14509,\n",
       " 'solid': 62750,\n",
       " 'charging': 16661,\n",
       " 've': 72548,\n",
       " 'owned': 49349,\n",
       " 'keyboard': 39286,\n",
       " 'weeks': 74156,\n",
       " 'loving': 41750,\n",
       " 'having': 33702,\n",
       " 'sized': 61750,\n",
       " 'shifted': 60969,\n",
       " 'right': 58055,\n",
       " 'order': 48598,\n",
       " 'center': 16375,\n",
       " 'keys': 39325,\n",
       " 'monitor': 44788,\n",
       " 'viewed': 72985,\n",
       " 'bothered': 13808,\n",
       " 'solved': 62800,\n",
       " 'looks': 41608,\n",
       " 'white': 74552,\n",
       " 'letters': 40702,\n",
       " 'numbers': 47468,\n",
       " 'easier': 25455,\n",
       " 'read': 55595,\n",
       " 'helpful': 34264,\n",
       " 'stress': 64956,\n",
       " 'putting': 54492,\n",
       " 'body': 13511,\n",
       " 'past': 50056,\n",
       " 'numeric': 47477,\n",
       " 'keypad': 39317,\n",
       " 'rid': 58015,\n",
       " 'feel': 28897,\n",
       " 'difference': 22896,\n",
       " 'arm': 10152,\n",
       " 'allowed': 8685,\n",
       " 'stay': 64412,\n",
       " 'closer': 17560,\n",
       " 'feels': 28906,\n",
       " 'differences': 22899,\n",
       " 'layout': 40257,\n",
       " 'adjustment': 7789,\n",
       " 'transition': 69541,\n",
       " 'logitech': 41497,\n",
       " 'v200': 72238,\n",
       " 'cordless': 19778,\n",
       " 'combination': 18046,\n",
       " 'smaller': 62246,\n",
       " 'life': 40844,\n",
       " 'enjoyable': 26504,\n",
       " '3m': 3621,\n",
       " 'privacy': 53351,\n",
       " 'filters': 29215,\n",
       " 'laptops': 40095,\n",
       " 'brands': 14042,\n",
       " 'hold': 34732,\n",
       " 'long': 41544,\n",
       " 'try': 70042,\n",
       " 'outdoor': 48886,\n",
       " 'speaker': 63322,\n",
       " 'played': 51708,\n",
       " '30': 2968,\n",
       " 'seconds': 60155,\n",
       " 'stopped': 64737,\n",
       " 'working': 75339,\n",
       " 'amazon': 8938,\n",
       " 'charge': 16629,\n",
       " 'replacement': 57129,\n",
       " 'opps': 48464,\n",
       " 'thing': 68142,\n",
       " 'nicely': 46713,\n",
       " 'dead': 21580,\n",
       " 'sounded': 63055,\n",
       " 'brief': 14178,\n",
       " 'time': 68632,\n",
       " 'emailed': 26100,\n",
       " 'com': 18008,\n",
       " 'wanted': 73683,\n",
       " 'role': 58382,\n",
       " 'dice': 22817,\n",
       " '3rd': 3660,\n",
       " 'responded': 57535,\n",
       " 'saying': 59486,\n",
       " 'widespread': 74667,\n",
       " 'originally': 48678,\n",
       " 'thought': 68291,\n",
       " 'send': 60361,\n",
       " 'additional': 7664,\n",
       " 'refunded': 56541,\n",
       " 'money': 44762,\n",
       " 'gave': 31500,\n",
       " '10': 232,\n",
       " 'credit': 20346,\n",
       " 'account': 7256,\n",
       " 'surprised': 65925,\n",
       " 'sale': 59176,\n",
       " 'site': 61699,\n",
       " 'later': 40172,\n",
       " 'manunfacturing': 42690,\n",
       " 'defect': 21854,\n",
       " 'goes': 32139,\n",
       " 'issue': 38114,\n",
       " 'product': 53558,\n",
       " 'searched': 60105,\n",
       " 'customer': 20868,\n",
       " 'reviews': 57847,\n",
       " 'isolated': 38084,\n",
       " 'save': 59448,\n",
       " 'packaging': 49535,\n",
       " 'returning': 57762,\n",
       " 'price': 53167,\n",
       " '32': 3184,\n",
       " '00': 0,\n",
       " 'failed': 28446,\n",
       " 'leave': 40397,\n",
       " 'feedback': 28889,\n",
       " 'anothrer': 9462,\n",
       " 'hastle': 33628,\n",
       " 'defective': 21856,\n",
       " 'matter': 42979,\n",
       " 'tries': 69785,\n",
       " 'mention': 43554,\n",
       " 'generous': 31648,\n",
       " 'troubles': 69917,\n",
       " 'reputable': 57271,\n",
       " 'company': 18315,\n",
       " 'recommend': 56133,\n",
       " 'strongly': 65042,\n",
       " 'continue': 19386,\n",
       " 'prodcuts': 53536,\n",
       " 'future': 31090,\n",
       " 'best': 12777,\n",
       " 'luck': 41891,\n",
       " 'plastic': 51636,\n",
       " 'love': 41737,\n",
       " 'far': 28593,\n",
       " 'happy': 33481,\n",
       " 'fixed': 29506,\n",
       " 'brings': 14230,\n",
       " 'photographic': 51068,\n",
       " 'roots': 58469,\n",
       " 'vendor': 72633,\n",
       " 'awsome': 11404,\n",
       " 'quicker': 54864,\n",
       " 'expected': 27777,\n",
       " 'business': 14730,\n",
       " 'gym': 33070,\n",
       " 'listing': 41221,\n",
       " 'book': 13653,\n",
       " 'lying': 42028,\n",
       " 'pillow': 51346,\n",
       " 'library': 40801,\n",
       " 'sure': 65853,\n",
       " 'noise': 46976,\n",
       " 'cancelling': 15486,\n",
       " 'didn': 22853,\n",
       " 'want': 73681,\n",
       " 'spend': 63518,\n",
       " 'pair': 49645,\n",
       " 'taking': 66720,\n",
       " 'nice': 46704,\n",
       " 'large': 40105,\n",
       " 'overheat': 49164,\n",
       " 'block': 13321,\n",
       " 'external': 28070,\n",
       " 'sounds': 63093,\n",
       " 'songs': 62886,\n",
       " 'fold': 30058,\n",
       " 'fit': 29465,\n",
       " 'easily': 25461,\n",
       " 'extercise': 28063,\n",
       " 'pockets': 52045,\n",
       " 'appear': 9812,\n",
       " 'high': 34465,\n",
       " 'audio': 10907,\n",
       " 'expert': 27883,\n",
       " 'satisfied': 59391,\n",
       " 'produce': 53549,\n",
       " 'reason': 55751,\n",
       " 'stars': 64283,\n",
       " 'modulator': 44665,\n",
       " 'cord': 19754,\n",
       " 'makes': 42462,\n",
       " 'opinion': 48414,\n",
       " 'pleased': 51786,\n",
       " '73': 5597,\n",
       " 'years': 76149,\n",
       " 'hearing': 34095,\n",
       " 'slowly': 62181,\n",
       " 'fading': 28435,\n",
       " 'number': 47461,\n",
       " 'understand': 70963,\n",
       " 'dialog': 22771,\n",
       " 'tv': 70269,\n",
       " 'movie': 45187,\n",
       " 'music': 45622,\n",
       " 'fine': 29279,\n",
       " 'level': 40713,\n",
       " 'bass': 12109,\n",
       " 'response': 57542,\n",
       " 'handy': 33416,\n",
       " 'outside': 49002,\n",
       " 'clearly': 17407,\n",
       " 'programmer': 53681,\n",
       " 'type': 70439,\n",
       " 'hours': 35060,\n",
       " 'week': 74143,\n",
       " 'day': 21406,\n",
       " 'mavis': 43013,\n",
       " 'beacon': 12338,\n",
       " '16': 1268,\n",
       " 'rated': 55400,\n",
       " '155wpm': 1192,\n",
       " 'keyboards': 39293,\n",
       " 'important': 36165,\n",
       " 'quiet': 54907,\n",
       " 'allows': 8689,\n",
       " 'fast': 28657,\n",
       " 'problems': 53454,\n",
       " 'buttons': 14800,\n",
       " 'utmost': 72183,\n",
       " 'satisfaction': 59383,\n",
       " 'stability': 64078,\n",
       " 'simply': 61587,\n",
       " 'amazing': 8927,\n",
       " 'reading': 55617,\n",
       " 'decided': 21709,\n",
       " 'speakers': 63332,\n",
       " 'wasn': 73829,\n",
       " 'mind': 44070,\n",
       " 'blown': 13370,\n",
       " 'forward': 30366,\n",
       " '20': 1841,\n",
       " 'year': 76144,\n",
       " 'completely': 18508,\n",
       " 'dried': 24493,\n",
       " 'existing': 27700,\n",
       " 'car': 15718,\n",
       " 'honestly': 34841,\n",
       " 'complain': 18474,\n",
       " 'ideal': 35678,\n",
       " 'loud': 41709,\n",
       " 'mid': 43927,\n",
       " 'frequencies': 30639,\n",
       " 'crushed': 20588,\n",
       " 'substantial': 65317,\n",
       " 'base': 12054,\n",
       " 'practically': 52776,\n",
       " 'zilch': 76512,\n",
       " 'combined': 18054,\n",
       " 'subwoofer': 65361,\n",
       " 'actually': 7510,\n",
       " 'idea': 35676,\n",
       " 'pyle': 54542,\n",
       " 'rate': 55399,\n",
       " '200watts': 1986,\n",
       " 'absolutely': 7045,\n",
       " 'farce': 28601,\n",
       " 'magnet': 42348,\n",
       " 'tiny': 68744,\n",
       " 'pioneers': 51415,\n",
       " 'came': 15282,\n",
       " 'bigger': 12936,\n",
       " 'magnets': 42357,\n",
       " 'story': 64792,\n",
       " 'sheesh': 60908,\n",
       " 'opened': 48360,\n",
       " 'starting': 64324,\n",
       " 'worry': 75412,\n",
       " 'size': 61742,\n",
       " 'end': 26373,\n",
       " 'capable': 15623,\n",
       " 'coupled': 20035,\n",
       " 'amp': 9072,\n",
       " 'tonal': 69009,\n",
       " 'clarity': 17310,\n",
       " 'range': 55301,\n",
       " 'think': 68163,\n",
       " 'gets': 31738,\n",
       " 'requires': 57303,\n",
       " 'eq': 26760,\n",
       " 'band': 11909,\n",
       " 'away': 11346,\n",
       " 'limited': 41066,\n",
       " 'regards': 56574,\n",
       " 'output': 48973,\n",
       " 'dash': 21335,\n",
       " 'design': 22378,\n",
       " 'stick': 64581,\n",
       " 'alot': 8747,\n",
       " 'inside': 37057,\n",
       " 'diameter': 22784,\n",
       " 'wise': 74971,\n",
       " 'ok': 48027,\n",
       " 'wedge': 74129,\n",
       " 'bits': 13107,\n",
       " 'grille': 32696,\n",
       " 'bulging': 14561,\n",
       " 'guys': 33038,\n",
       " 'throwing': 68404,\n",
       " 'bind': 12999,\n",
       " 'financial': 29252,\n",
       " 'wife': 74689,\n",
       " 'saving': 59458,\n",
       " '40': 3701,\n",
       " 'dropping': 24589,\n",
       " 'minox': 44192,\n",
       " 'fan': 28539,\n",
       " 'owner': 49350,\n",
       " '1969': 1641,\n",
       " 'gadget': 31275,\n",
       " 'lover': 41743,\n",
       " 'eager': 25322,\n",
       " 'touted': 69280,\n",
       " 'gem': 31598,\n",
       " 'worked': 75318,\n",
       " 'research': 57356,\n",
       " 'data': 21346,\n",
       " 'line': 41094,\n",
       " 'prepurchase': 53017,\n",
       " 'info': 36783,\n",
       " 'beginners': 12560,\n",
       " 'camera': 15298,\n",
       " 'close': 17553,\n",
       " 'photograph': 51063,\n",
       " 'accompanying': 7241,\n",
       " 'fancy': 28552,\n",
       " 'digital': 23004,\n",
       " 'cameras': 15330,\n",
       " 'family': 28531,\n",
       " 'friends': 30706,\n",
       " 'panasonic': 49739,\n",
       " 'palmcorder': 49684,\n",
       " 'aware': 11343,\n",
       " 'imaging': 35987,\n",
       " 'performance': 50643,\n",
       " 'performed': 50656,\n",
       " 'operation': 48397,\n",
       " 'menu': 43561,\n",
       " 'lcd': 40285,\n",
       " 'indicator': 36596,\n",
       " 'photos': 51122,\n",
       " 'reasonably': 55757,\n",
       " 'sharp': 60829,\n",
       " 'given': 31918,\n",
       " 'accompanaying': 7235,\n",
       " 'superbly': 65629,\n",
       " 'usable': 71915,\n",
       " 'duracell': 24904,\n",
       " 'aaa': 6846,\n",
       " 'battery': 12215,\n",
       " 'detail': 22521,\n",
       " 'noted': 47223,\n",
       " 'connoting': 19081,\n",
       " 'note': 47212,\n",
       " 'tyring': 70473,\n",
       " 'webcam': 74080,\n",
       " 'images': 35955,\n",
       " 'produced': 53550,\n",
       " 'typically': 70462,\n",
       " 'sub': 65216,\n",
       " 'mediocre': 43344,\n",
       " 'webcams': 74085,\n",
       " 'indoor': 36637,\n",
       " 'shots': 61159,\n",
       " 'bit': 13087,\n",
       " 'fuzzy': 31107,\n",
       " 'son': 62871,\n",
       " 'took': 69051,\n",
       " 'panorama': 49792,\n",
       " 'shot': 61152,\n",
       " 'seminar': 60347,\n",
       " 'giving': 31926,\n",
       " 'stitched': 64671,\n",
       " 'broad': 14253,\n",
       " 'wrong': 75616,\n",
       " 'delayed': 22039,\n",
       " 'beep': 12496,\n",
       " 'indicate': 36587,\n",
       " 'photo': 51025,\n",
       " 'exposure': 27975,\n",
       " 'starts': 64332,\n",
       " 'indicates': 36589,\n",
       " 'stops': 64745,\n",
       " 'dim': 23068,\n",
       " 'couple': 20034,\n",
       " 'flaws': 29696,\n",
       " 'sent': 60458,\n",
       " 'image': 35937,\n",
       " 'blurred': 13441,\n",
       " 'edges': 25635,\n",
       " 'posted': 52530,\n",
       " 'british': 14243,\n",
       " 'live': 41282,\n",
       " 'second': 60144,\n",
       " 'drains': 24404,\n",
       " 'disturbingly': 23802,\n",
       " 'rapidly': 55354,\n",
       " 'storing': 64782,\n",
       " 'pictures': 51264,\n",
       " 'trouble': 69913,\n",
       " 'weekend': 74148,\n",
       " 'trip': 69828,\n",
       " 'drained': 24399,\n",
       " 'days': 21425,\n",
       " 'leaving': 40402,\n",
       " 'download': 24292,\n",
       " 'soon': 62937,\n",
       " 'experiment': 27867,\n",
       " 'systematically': 66443,\n",
       " 'changed': 16562,\n",
       " 'quickly': 54873,\n",
       " 'changing': 16576,\n",
       " 'instructions': 37218,\n",
       " 'lose': 41672,\n",
       " 'change': 16558,\n",
       " 'batteries': 12188,\n",
       " 'mechanism': 43294,\n",
       " 'socond': 62640,\n",
       " 'conclusion': 18759,\n",
       " 'sipix': 61671,\n",
       " 'blink': 13283,\n",
       " 'general': 31618,\n",
       " 'public': 54222,\n",
       " 'experience': 27857,\n",
       " 'subminiature': 65273,\n",
       " 'owners': 49352,\n",
       " 'enjoyed': 26508,\n",
       " 'decades': 21668,\n",
       " 'takes': 66716,\n",
       " 'currently': 20808,\n",
       " 'breakthrough': 14102,\n",
       " 'throughly': 68384,\n",
       " 'fun': 30965,\n",
       " 'affordable': 8100,\n",
       " 'insurance': 37266,\n",
       " 'purposes': 54447,\n",
       " 'carry': 15889,\n",
       " 'needing': 46330,\n",
       " 'jim': 38639,\n",
       " 'true': 69959,\n",
       " 'cables': 15086,\n",
       " 'provide': 54039,\n",
       " 'buys': 14845,\n",
       " 'monster': 44855,\n",
       " 'refuting': 56563,\n",
       " 'durability': 24886,\n",
       " 'case': 15950,\n",
       " 'knowing': 39613,\n",
       " 'equipment': 26818,\n",
       " 'investment': 37745,\n",
       " 'admit': 7831,\n",
       " 'arista': 10139,\n",
       " 'fiber': 29041,\n",
       " 'optic': 48483,\n",
       " 'length': 40506,\n",
       " 'cheaper': 16727,\n",
       " 'foot': 30134,\n",
       " 'traffic': 69410,\n",
       " 'fair': 28461,\n",
       " 'belkin': 12635,\n",
       " 'network': 46524,\n",
       " 'produces': 53554,\n",
       " 'conduction': 18831,\n",
       " 'firmware': 29415,\n",
       " 'bd': 12310,\n",
       " 'player': 51710,\n",
       " 'penny': 50487,\n",
       " 'series': 60542,\n",
       " 'lenses': 40570,\n",
       " 'usually': 72136,\n",
       " 'shoot': 61072,\n",
       " 'portraits': 52421,\n",
       " 'people': 50517,\n",
       " 'need': 46314,\n",
       " 'wide': 74652,\n",
       " 'angle': 9334,\n",
       " 'reported': 57192,\n",
       " 'heavy': 34149,\n",
       " 'santa': 59307,\n",
       " 'claus': 17354,\n",
       " 'doesn': 24022,\n",
       " 'exist': 27690,\n",
       " 'received': 55903,\n",
       " '200': 1842,\n",
       " 'previously': 53153,\n",
       " 'daughter': 21387,\n",
       " 'birthday': 13078,\n",
       " 'party': 50006,\n",
       " 'captured': 15703,\n",
       " 'uniqueness': 71230,\n",
       " 'barn': 12020,\n",
       " 'property': 53847,\n",
       " 'cropping': 20496,\n",
       " '20d': 2107,\n",
       " 'course': 20049,\n",
       " '5d': 4779,\n",
       " 'photography': 51074,\n",
       " 'passion': 50038,\n",
       " 'living': 41298,\n",
       " 'youthful': 76323,\n",
       " 'play': 51690,\n",
       " 'restored': 57590,\n",
       " 'lie': 40832,\n",
       " 'leaves': 40400,\n",
       " 'tree': 69695,\n",
       " 'house': 35068,\n",
       " 'jumped': 38891,\n",
       " 'bed': 12459,\n",
       " 'plumenting': 51915,\n",
       " 'floor': 29827,\n",
       " 'cracked': 20179,\n",
       " 'filter': 29183,\n",
       " 'jammed': 38448,\n",
       " 'knew': 39574,\n",
       " '15': 1128,\n",
       " 'hit': 34602,\n",
       " 'adding': 7659,\n",
       " 'considering': 19154,\n",
       " 'backback': 11642,\n",
       " 'wonderful': 75206,\n",
       " 'padded': 49571,\n",
       " 'huge': 35316,\n",
       " 'label': 39898,\n",
       " 'cost': 19922,\n",
       " 'broken': 14294,\n",
       " 'sarah': 59326,\n",
       " 'school': 59692,\n",
       " 'stuff': 65113,\n",
       " 'likely': 41022,\n",
       " 'stolen': 64703,\n",
       " 'remember': 56926,\n",
       " 'throw': 68395,\n",
       " 'kid': 39389,\n",
       " 'husband': 35429,\n",
       " 'wireless': 74931,\n",
       " 'watching': 73862,\n",
       " 'deficit': 21900,\n",
       " 'hardly': 33520,\n",
       " 'recently': 55936,\n",
       " '120': 687,\n",
       " 'comparison': 18345,\n",
       " 'comfort': 18116,\n",
       " 'bedroom': 12465,\n",
       " 'granddaughter': 32471,\n",
       " 'christmas': 17028,\n",
       " 'delivered': 22087,\n",
       " 'promised': 53763,\n",
       " 'condition': 18803,\n",
       " 'thank': 67550,\n",
       " 'wrt54g': 75641,\n",
       " 'router': 58549,\n",
       " 'linksys': 41146,\n",
       " 'seriously': 60549,\n",
       " 'damaged': 21224,\n",
       " 'removing': 56994,\n",
       " 'rp': 58594,\n",
       " 'tnc': 68861,\n",
       " 'antenna': 9524,\n",
       " 'connectors': 19050,\n",
       " 'units': 71251,\n",
       " 'wrt54gl': 75645,\n",
       " 'making': 42472,\n",
       " 'standard': 64198,\n",
       " 'antennas': 9540,\n",
       " 'stronger': 65037,\n",
       " 'increase': 36497,\n",
       " 'instead': 37177,\n",
       " 'pny': 51998,\n",
       " 'optima': 48509,\n",
       " '512mb': 4452,\n",
       " 'ddr': 21550,\n",
       " '333': 3295,\n",
       " 'mhz': 43787,\n",
       " 'pc2700': 50206,\n",
       " 'desktop': 22446,\n",
       " 'dimm': 23094,\n",
       " 'memory': 43504,\n",
       " 'module': 44668,\n",
       " 'md0512sd1': 43167,\n",
       " 'doctor': 23983,\n",
       " 'ordered': 48600,\n",
       " 'pick': 51203,\n",
       " 'aging': 8253,\n",
       " 'pc': 50190,\n",
       " 'increased': 36498,\n",
       " 'ram': 55258,\n",
       " 'noticeable': 47254,\n",
       " 'enhancement': 26489,\n",
       " 'speed': 63454,\n",
       " 'operations': 48405,\n",
       " 'prime': 53254,\n",
       " 'shipping': 61012,\n",
       " 'installation': 37130,\n",
       " 'beat': 12385,\n",
       " 'havent': 33687,\n",
       " 'fully': 30956,\n",
       " 'tested': 67445,\n",
       " 'microphone': 43875,\n",
       " 'adjustable': 7774,\n",
       " 'comfortable': 18118,\n",
       " 'incredible': 36508,\n",
       " 'games': 31364,\n",
       " 'highly': 34493,\n",
       " 'spends': 63522,\n",
       " 'phone': 50986,\n",
       " 'talking': 66746,\n",
       " 'customers': 20870,\n",
       " 'trying': 70048,\n",
       " 'variety': 72478,\n",
       " 'phones': 50997,\n",
       " 'handsets': 33397,\n",
       " 'determined': 22578,\n",
       " 'obtained': 47675,\n",
       " 'headsets': 34050,\n",
       " 'inexpensive': 36691,\n",
       " 'available': 11200,\n",
       " 'locally': 41409,\n",
       " 'broke': 14292,\n",
       " 'find': 29261,\n",
       " 'turned': 70228,\n",
       " 'jewel': 38595,\n",
       " 'offers': 47864,\n",
       " 'date': 21373,\n",
       " 'separate': 60478,\n",
       " '5mm': 4866,\n",
       " 'socket': 62632,\n",
       " 'fact': 28412,\n",
       " 'mentioned': 43555,\n",
       " 'description': 22340,\n",
       " 'state': 64351,\n",
       " 'quick': 54852,\n",
       " 'disconnect': 23333,\n",
       " 'feature': 28836,\n",
       " 'added': 7644,\n",
       " 'freedom': 30574,\n",
       " 'imply': 36157,\n",
       " 'terminates': 67389,\n",
       " 'corresponding': 19877,\n",
       " 'extra': 28086,\n",
       " 'excellent': 27505,\n",
       " 'clear': 17394,\n",
       " 'trusty': 70011,\n",
       " 'microsoft': 43898,\n",
       " 'intellimouse': 37331,\n",
       " 'explorer': 27945,\n",
       " 'failing': 28448,\n",
       " 'chose': 17011,\n",
       " 'switch': 66190,\n",
       " 'kensington': 39245,\n",
       " 'based': 12064,\n",
       " 'btw': 14415,\n",
       " 'xp': 75964,\n",
       " 'compared': 18335,\n",
       " 'previous': 53152,\n",
       " 'seen': 60245,\n",
       " 'provides': 54048,\n",
       " 'silky': 61507,\n",
       " 'touch': 69228,\n",
       " 'basic': 12088,\n",
       " 'fingerprint': 29310,\n",
       " 'clicker': 17444,\n",
       " 'positive': 52485,\n",
       " 'click': 17440,\n",
       " 'mushiness': 45617,\n",
       " 'scroll': 59908,\n",
       " 'performs': 50665,\n",
       " 'smoothly': 62387,\n",
       " 'programmed': 53680,\n",
       " 'mouseworks': 45156,\n",
       " 'program': 53664,\n",
       " 'left': 40424,\n",
       " 'button': 14786,\n",
       " 'screen': 59840,\n",
       " 'refresh': 56519,\n",
       " 'options': 48539,\n",
       " 'missing': 44353,\n",
       " 'led': 40409,\n",
       " 'jazz': 38503,\n",
       " 'awesome': 11363,\n",
       " 'latest': 40180,\n",
       " 'enclosed': 26301,\n",
       " 'cd': 16225,\n",
       " 'probably': 53412,\n",
       " 'apply': 9882,\n",
       " 'isolation': 38088,\n",
       " 'earphones': 25401,\n",
       " 'require': 57294,\n",
       " 'insert': 37046,\n",
       " 'ear': 25338,\n",
       " 'canal': 15461,\n",
       " 'plugs': 51905,\n",
       " 'word': 75272,\n",
       " 'e2cs': 25208,\n",
       " 'come': 18076,\n",
       " 'seven': 60661,\n",
       " 'types': 70452,\n",
       " 'buds': 14465,\n",
       " 'necessary': 46282,\n",
       " 'apparently': 9802,\n",
       " 'narrow': 46061,\n",
       " 'canals': 15465,\n",
       " 'ones': 48209,\n",
       " 'smallest': 62249,\n",
       " 'main': 42412,\n",
       " 'normal': 47138,\n",
       " 'bud': 14448,\n",
       " 'slightest': 62055,\n",
       " 'head': 33923,\n",
       " 'shake': 60762,\n",
       " 'jogging': 38713,\n",
       " 'wouldn': 75457,\n",
       " 'walking': 73608,\n",
       " 'sort': 62985,\n",
       " 'ache': 7339,\n",
       " 'decide': 21708,\n",
       " 'shure': 61310,\n",
       " 'website': 74112,\n",
       " 'link': 41130,\n",
       " 'guarantee': 32904,\n",
       " 'local': 41401,\n",
       " 'store': 64760,\n",
       " 'unlikely': 71295,\n",
       " 'open': 48352,\n",
       " 'package': 49527,\n",
       " 'let': 40685,\n",
       " 'test': 67440,\n",
       " 'stores': 64773,\n",
       " 'accept': 7140,\n",
       " 'returns': 57764,\n",
       " 'ask': 10416,\n",
       " 'return': 57755,\n",
       " 'policy': 52172,\n",
       " 'accurate': 7302,\n",
       " 'things': 68153,\n",
       " 'isolate': 38083,\n",
       " 'blocking': 13330,\n",
       " '95': 6421,\n",
       " 'listening': 41210,\n",
       " 'rock': 58317,\n",
       " 'acoustic': 7411,\n",
       " 'subway': 65355,\n",
       " 'soundtrack': 63115,\n",
       " 'headphone': 33979,\n",
       " 'gives': 31923,\n",
       " 'portable': 52367,\n",
       " 'greatest': 32609,\n",
       " 'strength': 64946,\n",
       " 'limitation': 41064,\n",
       " 'imagine': 35983,\n",
       " 'going': 32149,\n",
       " 'point': 52107,\n",
       " 'jog': 38708,\n",
       " 'dangerous': 21275,\n",
       " 'deserted': 22364,\n",
       " 'area': 10074,\n",
       " 'totally': 69208,\n",
       " 'hiking': 34523,\n",
       " 'chancy': 16551,\n",
       " 'walk': 73597,\n",
       " 'crowded': 20534,\n",
       " 'areas': 10078,\n",
       " 'lost': 41688,\n",
       " 'count': 19996,\n",
       " 'bumped': 14602,\n",
       " 'realize': 55676,\n",
       " 'unconsciously': 70857,\n",
       " 'rely': 56880,\n",
       " 'eat': 25505,\n",
       " 'eating': 25512,\n",
       " 'set': 60608,\n",
       " 'foam': 29969,\n",
       " 'movement': 45180,\n",
       " 'chewing': 16849,\n",
       " 'magnified': 42369,\n",
       " 'weird': 74211,\n",
       " ...}"
      ]
     },
     "execution_count": 41,
     "metadata": {},
     "output_type": "execute_result"
    }
   ],
   "source": [
    "cv = bag_of_words_model.named_steps['vectorizer']\n",
    "cv.vocabulary_\n",
    "# keyword: column index"
   ]
  },
  {
   "cell_type": "code",
   "execution_count": 40,
   "metadata": {},
   "outputs": [
    {
     "name": "stdout",
     "output_type": "stream",
     "text": [
      "==================\n",
      "Your score:  1.0833511525800792\n",
      "==================\n"
     ]
    }
   ],
   "source": [
    "grader.score.nlp__bag_of_words_model(bag_of_words_model.predict)"
   ]
  },
  {
   "cell_type": "markdown",
   "metadata": {},
   "source": [
    "## Question 2: Normalized model\n",
    "\n",
    "Ridge is a linear model that benefits from normalised inputs.\n",
    "\n",
    "Using raw counts will not be as effective compared if we had normalized the counts. There are several ways to normalize raw counts; the `HashingVectorizer` class has the keyword `norm` and there is also the `TfidfTransformer` and `TfidfVectorizer` that perform tf-idf weighting on the counts. Apply normalized to your model to improve performance."
   ]
  },
  {
   "cell_type": "code",
   "execution_count": 22,
   "metadata": {},
   "outputs": [],
   "source": [
    "from sklearn.feature_extraction.text import HashingVectorizer\n",
    "from sklearn.feature_extraction.text import TfidfVectorizer"
   ]
  },
  {
   "cell_type": "code",
   "execution_count": 13,
   "metadata": {},
   "outputs": [],
   "source": [
    "normalized_model = Pipeline([\n",
    "    ('get_text', KeySelector('reviewText')),\n",
    "    ('vectorizer', HashingVectorizer(stop_words=STOP_WORDS, norm='l2')), # default is norm=l2\n",
    "    ('ridge', GridSearchCV(Ridge(),\n",
    "                           param_grid={'alpha': np.logspace(-2,1,5)},\n",
    "                           cv=5, n_jobs=-2, verbose=1))\n",
    "])"
   ]
  },
  {
   "cell_type": "code",
   "execution_count": 65,
   "metadata": {},
   "outputs": [
    {
     "name": "stdout",
     "output_type": "stream",
     "text": [
      "Fitting 5 folds for each of 5 candidates, totalling 25 fits\n"
     ]
    },
    {
     "name": "stderr",
     "output_type": "stream",
     "text": [
      "[Parallel(n_jobs=-2)]: Using backend SequentialBackend with 1 concurrent workers.\n",
      "[Parallel(n_jobs=-2)]: Done  25 out of  25 | elapsed:  6.5min finished\n"
     ]
    },
    {
     "data": {
      "text/plain": [
       "Pipeline(memory=None,\n",
       "         steps=[('get_text', KeySelector(key='reviewText')),\n",
       "                ('vectorizer',\n",
       "                 HashingVectorizer(alternate_sign=True, analyzer='word',\n",
       "                                   binary=False, decode_error='strict',\n",
       "                                   dtype=<class 'numpy.float64'>,\n",
       "                                   encoding='utf-8', input='content',\n",
       "                                   lowercase=True, n_features=1048576,\n",
       "                                   ngram_range=(1, 1), norm='l2',\n",
       "                                   preprocessor=None,\n",
       "                                   stop_words={'a', 'about', 'above', 'a...\n",
       "                 GridSearchCV(cv=5, error_score='raise-deprecating',\n",
       "                              estimator=Ridge(alpha=1.0, copy_X=True,\n",
       "                                              fit_intercept=True, max_iter=None,\n",
       "                                              normalize=False,\n",
       "                                              random_state=None, solver='auto',\n",
       "                                              tol=0.001),\n",
       "                              iid='warn', n_jobs=-2,\n",
       "                              param_grid={'alpha': array([ 0.01      ,  0.05623413,  0.31622777,  1.77827941, 10.        ])},\n",
       "                              pre_dispatch='2*n_jobs', refit=True,\n",
       "                              return_train_score=False, scoring=None,\n",
       "                              verbose=1))],\n",
       "         verbose=False)"
      ]
     },
     "execution_count": 65,
     "metadata": {},
     "output_type": "execute_result"
    }
   ],
   "source": [
    "normalized_model.fit(data, ratings)\n",
    "\n",
    "# l2 takes 7.0 mins; l1 takes 6.5 mins but same score"
   ]
  },
  {
   "cell_type": "code",
   "execution_count": null,
   "metadata": {},
   "outputs": [],
   "source": [
    "normalized_model.score(data, ratings)"
   ]
  },
  {
   "cell_type": "code",
   "execution_count": 69,
   "metadata": {},
   "outputs": [
    {
     "data": {
      "text/plain": [
       "{'alpha': 1.7782794100389228}"
      ]
     },
     "execution_count": 69,
     "metadata": {},
     "output_type": "execute_result"
    }
   ],
   "source": [
    "normalized_model.named_steps['ridge'].best_params_ # middle"
   ]
  },
  {
   "cell_type": "code",
   "execution_count": 70,
   "metadata": {},
   "outputs": [
    {
     "name": "stdout",
     "output_type": "stream",
     "text": [
      "==================\n",
      "Your score:  0.9996650827055537\n",
      "==================\n"
     ]
    }
   ],
   "source": [
    "grader.score.nlp__normalized_model(normalized_model.predict)"
   ]
  },
  {
   "cell_type": "markdown",
   "metadata": {},
   "source": [
    "## Question 3: Bigrams model\n",
    "\n",
    "The model performance may increase when including additional features generated by counting bigrams. Include bigrams to your model. When using more features, the risk of overfitting increases. Make sure you try to minimize overfitting as much as possible."
   ]
  },
  {
   "cell_type": "code",
   "execution_count": 11,
   "metadata": {},
   "outputs": [],
   "source": [
    "bigrams_model = Pipeline([\n",
    "    ('get_text', KeySelector('reviewText')),\n",
    "    ('vectorizer', HashingVectorizer(stop_words=STOP_WORDS, ngram_range=(1,2))), # single AND pairs of words\n",
    "    ('ridge', Ridge(alpha=0.5, verbose=1))\n",
    "])"
   ]
  },
  {
   "cell_type": "code",
   "execution_count": 12,
   "metadata": {},
   "outputs": [
    {
     "data": {
      "text/plain": [
       "Pipeline(memory=None,\n",
       "         steps=[('get_text', KeySelector(key='reviewText')),\n",
       "                ('vectorizer',\n",
       "                 HashingVectorizer(alternate_sign=True, analyzer='word',\n",
       "                                   binary=False, decode_error='strict',\n",
       "                                   dtype=<class 'numpy.float64'>,\n",
       "                                   encoding='utf-8', input='content',\n",
       "                                   lowercase=True, n_features=1048576,\n",
       "                                   ngram_range=(1, 2), norm='l2',\n",
       "                                   preprocessor=None,\n",
       "                                   stop_words={'a', 'about', 'above', 'a...\n",
       "                                               'also', 'although', 'always',\n",
       "                                               'am', 'among', 'amongst',\n",
       "                                               'amount', 'an', 'and', 'another',\n",
       "                                               'any', 'anyhow', 'anyone',\n",
       "                                               'anything', 'anyway', 'anywhere',\n",
       "                                               'are', ...},\n",
       "                                   strip_accents=None,\n",
       "                                   token_pattern='(?u)\\\\b\\\\w\\\\w+\\\\b',\n",
       "                                   tokenizer=None)),\n",
       "                ('ridge',\n",
       "                 Ridge(alpha=0.5, copy_X=True, fit_intercept=True,\n",
       "                       max_iter=None, normalize=False, random_state=None,\n",
       "                       solver='auto', tol=0.001))],\n",
       "         verbose=False)"
      ]
     },
     "execution_count": 12,
     "metadata": {},
     "output_type": "execute_result"
    }
   ],
   "source": [
    "bigrams_model.fit(data, ratings)"
   ]
  },
  {
   "cell_type": "code",
   "execution_count": 13,
   "metadata": {},
   "outputs": [
    {
     "data": {
      "text/plain": [
       "0.8365572366513826"
      ]
     },
     "execution_count": 13,
     "metadata": {},
     "output_type": "execute_result"
    }
   ],
   "source": [
    "bigrams_model.score(data, ratings)"
   ]
  },
  {
   "cell_type": "code",
   "execution_count": 14,
   "metadata": {},
   "outputs": [
    {
     "name": "stdout",
     "output_type": "stream",
     "text": [
      "==================\n",
      "Your score:  1.0129273558329073\n",
      "==================\n"
     ]
    }
   ],
   "source": [
    "grader.score.nlp__bigrams_model(bigrams_model.predict)"
   ]
  },
  {
   "cell_type": "markdown",
   "metadata": {},
   "source": [
    "## Question 4: Polarity analysis\n",
    "\n",
    "Different to Q1-3; not predicting star rating from review content. Now, Naive Bayes (assumes independence) classification of most polar words.\n",
    "\n",
    "$$P(\\text{hypothesis } | \\text{ data}) = \\ldots \\text{via Bayes Theorem.}$$\n",
    "\n",
    "Let's derive some insight from our analysis. We want to determine the most polarizing words in the corpus of reviews. In other words, we want identify words that strongly signal a review is either positive or negative. For example, we understand a word like \"terrible\" will mostly appear in negative rather than positive reviews. The naive Bayes model calculates probabilities such as $P(\\text{negative } | \\text{ 'terrible'})$, the probability the review is negative given the word \"terrible\" appears in the text. Using these probabilities, we can derive a polarity score for each counted word,\n",
    "\n",
    "$$\n",
    "\\text{polarity} =  \\log\\left(\\frac{P(\\text{word } | \\text{ positive})}{P(\\text{word } | \\text{ negative})}\\right).\n",
    "$$ \n",
    "\n",
    "The polarity analysis is an example where a simpler model offers more explicability than a more complicated model. For this question, you are asked to determine the top twenty-five words with the largest positive **and** largest negative polarity, for a total of fifty words. For this analysis, you should:\n",
    "\n",
    "1. Use the naive Bayes model, `MultinomialNB`.\n",
    "1. Use tf-idf weighting.\n",
    "1. Remove stop words.\n",
    "\n",
    "A trained naive Bayes model stores the log of the probabilities in the attribute `feature_log_prob_`. It is a NumPy array of shape (number of classes, the number of features). You will need the mapping between feature index to word. For this problem, you will use a different data set; it has been processed to only include reviews with one and five stars. You can download it below."
   ]
  },
  {
   "cell_type": "code",
   "execution_count": 23,
   "metadata": {},
   "outputs": [
    {
     "name": "stderr",
     "output_type": "stream",
     "text": [
      "File ‘./data/amazon_one_and_five_star_reviews.json.gz’ already there; not retrieving.\n",
      "\n"
     ]
    }
   ],
   "source": [
    "%%bash\n",
    "wget http://dataincubator-wqu.s3.amazonaws.com/mldata/amazon_one_and_five_star_reviews.json.gz -nc -P ./data\n",
    "\n",
    "# includes only reviews with 1 or 5 star ratings - only concerned with most polar words!"
   ]
  },
  {
   "cell_type": "markdown",
   "metadata": {},
   "source": [
    "To avoid memory issue, we can delete the older data."
   ]
  },
  {
   "cell_type": "code",
   "execution_count": 24,
   "metadata": {},
   "outputs": [],
   "source": [
    "del data, ratings"
   ]
  },
  {
   "cell_type": "code",
   "execution_count": 25,
   "metadata": {},
   "outputs": [],
   "source": [
    "import numpy as np\n",
    "from sklearn.naive_bayes import MultinomialNB\n",
    "\n",
    "with gzip.open(\"data/amazon_one_and_five_star_reviews.json.gz\", \"r\") as f:\n",
    "    data_polarity = [json.loads(line) for line in f] # subset of 'data' with only 1 or 5 stars\n",
    "\n",
    "ratings = [x['overall'] for x in data_polarity]"
   ]
  },
  {
   "cell_type": "code",
   "execution_count": 26,
   "metadata": {},
   "outputs": [
    {
     "data": {
      "text/plain": [
       "[{'reviewerID': 'A31RSJTGLVV3TR',\n",
       "  'asin': 'B000093UDP',\n",
       "  'reviewerName': 'T. Wayne',\n",
       "  'helpful': [11, 12],\n",
       "  'reviewText': \"This worked perfectly for about 8 rewinds.  But once it eats one of your precious tapes you'll probably be as dissapointed as I was.  Buyer beware... these rewinders are mostly the same look; but marketed by different companies.  They all eat tape.\",\n",
       "  'overall': 1.0,\n",
       "  'summary': \"It's a super tape-eater\",\n",
       "  'unixReviewTime': 1210550400,\n",
       "  'reviewTime': '05 12, 2008'},\n",
       " {'reviewerID': 'A2Y739CRM15WDL',\n",
       "  'asin': 'B00005MNSR',\n",
       "  'reviewerName': 'Sires \"I like mysteries (particularly British...',\n",
       "  'helpful': [0, 0],\n",
       "  'reviewText': \"This was a choice in my gold box or I might not have bought it. I would have been missing out on a very good monitor if I hadn't.I just bought a new 2.53 gigahertz multi media computer running XP home edition and wanted a monitor with a small footprint but still able to handle graphics intense functions.  Set up was a breeze.  I just plugged it in and it was recognized at once.  While I normally use a 17 inch monitor, I have to say that this 15 inch LCD monitor was easier to read, especially at a distance.I am definitely pleased with this product.\",\n",
       "  'overall': 5.0,\n",
       "  'summary': 'Well worth the Money',\n",
       "  'unixReviewTime': 1039996800,\n",
       "  'reviewTime': '12 16, 2002'}]"
      ]
     },
     "execution_count": 26,
     "metadata": {},
     "output_type": "execute_result"
    }
   ],
   "source": [
    "data_polarity[:2]\n",
    "# 'overall' = rating\n",
    "# 'reviewText' = document"
   ]
  },
  {
   "cell_type": "code",
   "execution_count": 32,
   "metadata": {},
   "outputs": [],
   "source": [
    "pipe = Pipeline([\n",
    "    ('get_text', KeySelector('reviewText')),\n",
    "    ('vectorizer', TfidfVectorizer(stop_words=STOP_WORDS)),\n",
    "    ('estimator', MultinomialNB())\n",
    "])"
   ]
  },
  {
   "cell_type": "code",
   "execution_count": 33,
   "metadata": {},
   "outputs": [
    {
     "data": {
      "text/plain": [
       "Pipeline(memory=None,\n",
       "         steps=[('get_text', KeySelector(key='reviewText')),\n",
       "                ('vectorizer',\n",
       "                 TfidfVectorizer(analyzer='word', binary=False,\n",
       "                                 decode_error='strict',\n",
       "                                 dtype=<class 'numpy.float64'>,\n",
       "                                 encoding='utf-8', input='content',\n",
       "                                 lowercase=True, max_df=1.0, max_features=None,\n",
       "                                 min_df=1, ngram_range=(1, 1), norm='l2',\n",
       "                                 preprocessor=None, smooth_idf=True,\n",
       "                                 stop_words={'a', 'abou...\n",
       "                                             'also', 'although', 'always', 'am',\n",
       "                                             'among', 'amongst', 'amount', 'an',\n",
       "                                             'and', 'another', 'any', 'anyhow',\n",
       "                                             'anyone', 'anything', 'anyway',\n",
       "                                             'anywhere', 'are', ...},\n",
       "                                 strip_accents=None, sublinear_tf=False,\n",
       "                                 token_pattern='(?u)\\\\b\\\\w\\\\w+\\\\b',\n",
       "                                 tokenizer=None, use_idf=True,\n",
       "                                 vocabulary=None)),\n",
       "                ('estimator',\n",
       "                 MultinomialNB(alpha=1.0, class_prior=None, fit_prior=True))],\n",
       "         verbose=False)"
      ]
     },
     "execution_count": 33,
     "metadata": {},
     "output_type": "execute_result"
    }
   ],
   "source": [
    "pipe.fit(data_polarity, ratings) "
   ]
  },
  {
   "cell_type": "code",
   "execution_count": 34,
   "metadata": {},
   "outputs": [],
   "source": [
    "nb = pipe.named_steps['estimator']"
   ]
  },
  {
   "cell_type": "code",
   "execution_count": 39,
   "metadata": {},
   "outputs": [
    {
     "data": {
      "text/plain": [
       "array([[ -8.64595801,  -9.6369024 , -10.86439331, ..., -10.19829036,\n",
       "        -10.71077731, -10.62308687],\n",
       "       [ -9.35207212,  -9.30288304, -10.57273656, ..., -10.81783738,\n",
       "        -10.81783738, -10.81783738]])"
      ]
     },
     "execution_count": 39,
     "metadata": {},
     "output_type": "execute_result"
    }
   ],
   "source": [
    "# log of the probabilities\n",
    "log_probs = nb.feature_log_prob_\n",
    "log_probs"
   ]
  },
  {
   "cell_type": "code",
   "execution_count": 38,
   "metadata": {},
   "outputs": [
    {
     "data": {
      "text/plain": [
       "['acoustic',\n",
       " 'acoustical',\n",
       " 'acoustically',\n",
       " 'acoustics',\n",
       " 'acoustimass',\n",
       " 'acquainted',\n",
       " 'acquire',\n",
       " 'acquired',\n",
       " 'acquiring',\n",
       " 'acquisition']"
      ]
     },
     "execution_count": 38,
     "metadata": {},
     "output_type": "execute_result"
    }
   ],
   "source": [
    "index_to_token = pipe.named_steps['vectorizer'].get_feature_names()\n",
    "index_to_token[2000:2010]\n",
    "# maps index to word"
   ]
  },
  {
   "cell_type": "code",
   "execution_count": 41,
   "metadata": {},
   "outputs": [
    {
     "data": {
      "text/plain": [
       "(2, 25422)"
      ]
     },
     "execution_count": 41,
     "metadata": {},
     "output_type": "execute_result"
    }
   ],
   "source": [
    "log_probs.shape # (no. classes, no. features)\n",
    "# row 0 is positive\n",
    "# row 1 is negative"
   ]
  },
  {
   "cell_type": "code",
   "execution_count": 42,
   "metadata": {},
   "outputs": [],
   "source": [
    "# log of ratio is same as subtraction of logs\n",
    "polarity = log_probs[0,:] - log_probs[1,:]"
   ]
  },
  {
   "cell_type": "code",
   "execution_count": 45,
   "metadata": {},
   "outputs": [
    {
     "data": {
      "text/plain": [
       "array([11288,  3610, 17646, ..., 19021, 24531, 18497])"
      ]
     },
     "execution_count": 45,
     "metadata": {},
     "output_type": "execute_result"
    }
   ],
   "source": [
    "index = np.argsort(polarity) # order\n",
    "index\n",
    "# index 11288 gives word of lowest value; 18497 is index of highest"
   ]
  },
  {
   "cell_type": "code",
   "execution_count": 67,
   "metadata": {},
   "outputs": [
    {
     "data": {
      "text/plain": [
       "array([11288,  3610, 17646, 16559, 14790, 17123,  2511, 21610, 13921,\n",
       "       11980,  8880,  4036, 16917,   524,  5010, 10947,  3303, 17124,\n",
       "        7961,  6376, 16718, 22331,  4353,  9267, 18541, 18509, 22636,\n",
       "        7418, 18051, 21425, 23709, 11459,  3304, 23418, 17082,  3776,\n",
       "        6878, 23073, 25048, 25054, 23902, 10275, 19023, 22407, 12809,\n",
       "       25052, 19024, 19021, 24531, 18497])"
      ]
     },
     "execution_count": 67,
     "metadata": {},
     "output_type": "execute_result"
    }
   ],
   "source": [
    "extreme_index = np.hstack((index[:25], index[-25:]))\n",
    "extreme_index\n",
    "# lowest and highest 25 indices"
   ]
  },
  {
   "cell_type": "code",
   "execution_count": 68,
   "metadata": {},
   "outputs": [],
   "source": [
    "top_50 = [index_to_token[i] for i in extreme_index]"
   ]
  },
  {
   "cell_type": "code",
   "execution_count": 69,
   "metadata": {},
   "outputs": [
    {
     "name": "stdout",
     "output_type": "stream",
     "text": [
      "==================\n",
      "Your score:  1.0\n",
      "==================\n"
     ]
    }
   ],
   "source": [
    "grader.score.nlp__most_polar(top_50)"
   ]
  },
  {
   "cell_type": "markdown",
   "metadata": {},
   "source": [
    "## Question 5: Topic modeling [optional]; unsupervised!\n",
    "\n",
    "\n",
    "### Ungraded:  Here's some text - what are people talking about in this text?\n",
    "\n",
    "Topic modeling is the analysis of determining the key topics or themes in a corpus. With respect to machine learning, topic modeling is an unsupervised technique. One way to uncover the main topics in a corpus is to use [non-negative matrix factorization](https://scikit-learn.org/stable/modules/generated/sklearn.decomposition.NMF.html). For this question, use non-negative matrix factorization to determine the **top ten words for the first twenty topics.** You should submit your answer as a list of lists. What topics exist in the reviews?"
   ]
  },
  {
   "cell_type": "code",
   "execution_count": 70,
   "metadata": {},
   "outputs": [],
   "source": [
    "from sklearn.decomposition import NMF\n",
    " "
   ]
  }
 ],
 "metadata": {
  "kernelspec": {
   "display_name": "Python 3",
   "language": "python",
   "name": "python3"
  },
  "language_info": {
   "codemirror_mode": {
    "name": "ipython",
    "version": 3
   },
   "file_extension": ".py",
   "mimetype": "text/x-python",
   "name": "python",
   "nbconvert_exporter": "python",
   "pygments_lexer": "ipython3",
   "version": "3.7.3"
  },
  "nbclean": true
 },
 "nbformat": 4,
 "nbformat_minor": 1
}
