{
 "cells": [
  {
   "cell_type": "code",
   "execution_count": 2,
   "metadata": {
    "init_cell": true
   },
   "outputs": [],
   "source": [
    "%logstop\n",
    "%logstart -rtq ~/.logs/ml.py append\n",
    "%matplotlib inline\n",
    "import matplotlib\n",
    "import seaborn as sns\n",
    "sns.set()\n",
    "matplotlib.rcParams['figure.dpi'] = 144"
   ]
  },
  {
   "cell_type": "code",
   "execution_count": 3,
   "metadata": {},
   "outputs": [],
   "source": [
    "from static_grader import grader"
   ]
  },
  {
   "cell_type": "markdown",
   "metadata": {},
   "source": [
    "# ML Miniproject\n",
    "## Introduction\n",
    "\n",
    "The objective of this miniproject is to exercise your ability to create effective machine learning models for making predictions. We will be working with nursing home inspection data from the United States, predicting which providers may be fined and for how much.\n",
    "\n",
    "## Scoring\n",
    "\n",
    "In this miniproject you will often submit your model's `predict` or `predict_proba` method to the grader. The grader will assess the performance of your model using a scoring metric, comparing it against the score of a reference model. We will use the [average precision score](http://scikit-learn.org/stable/modules/generated/sklearn.metrics.average_precision_score.html). If your model performs better than the reference solution, then you can score higher than 1.0.\n",
    "\n",
    "**Note:** If you use an estimator that relies on random draws (like a `RandomForestClassifier`) you should set the `random_state=` to an integer so that your results are reproducible. \n",
    "\n",
    "## Downloading the data\n",
    "\n",
    "We can download the data set from Amazon S3:"
   ]
  },
  {
   "cell_type": "code",
   "execution_count": 4,
   "metadata": {},
   "outputs": [
    {
     "name": "stderr",
     "output_type": "stream",
     "text": [
      "mkdir: cannot create directory ‘data’: File exists\n",
      "File ‘./ml-data/providers-train.csv’ already there; not retrieving.\n",
      "\n",
      "File ‘./ml-data/providers-metadata.csv’ already there; not retrieving.\n",
      "\n"
     ]
    }
   ],
   "source": [
    "%%bash\n",
    "mkdir data\n",
    "wget http://dataincubator-wqu.s3.amazonaws.com/mldata/providers-train.csv -nc -P ./ml-data\n",
    "wget http://dataincubator-wqu.s3.amazonaws.com/mldata/providers-metadata.csv -nc -P ./ml-data"
   ]
  },
  {
   "cell_type": "markdown",
   "metadata": {},
   "source": [
    "We'll load the data into a Pandas DataFrame. Several columns will become target labels in future questions. Let's pop those columns out from the data, and drop related columns that are neither targets nor reasonable features (i.e. we don't wouldn't know how many times a facility denied payment before knowing whether it was fined).\n",
    "\n",
    "The data has many columns. We have also provided a data dictionary."
   ]
  },
  {
   "cell_type": "code",
   "execution_count": 5,
   "metadata": {},
   "outputs": [],
   "source": [
    "import numpy as np\n",
    "import pandas as pd"
   ]
  },
  {
   "cell_type": "code",
   "execution_count": 6,
   "metadata": {},
   "outputs": [
    {
     "data": {
      "text/html": [
       "<div>\n",
       "<style scoped>\n",
       "    .dataframe tbody tr th:only-of-type {\n",
       "        vertical-align: middle;\n",
       "    }\n",
       "\n",
       "    .dataframe tbody tr th {\n",
       "        vertical-align: top;\n",
       "    }\n",
       "\n",
       "    .dataframe thead th {\n",
       "        text-align: right;\n",
       "    }\n",
       "</style>\n",
       "<table border=\"1\" class=\"dataframe\">\n",
       "  <thead>\n",
       "    <tr style=\"text-align: right;\">\n",
       "      <th></th>\n",
       "      <th>Variable</th>\n",
       "      <th>Label</th>\n",
       "      <th>Description</th>\n",
       "      <th>Format</th>\n",
       "    </tr>\n",
       "  </thead>\n",
       "  <tbody>\n",
       "    <tr>\n",
       "      <th>0</th>\n",
       "      <td>PROVNUM</td>\n",
       "      <td>Federal Provider Number</td>\n",
       "      <td>Federal Provider Number</td>\n",
       "      <td>6 alphanumeric characters</td>\n",
       "    </tr>\n",
       "    <tr>\n",
       "      <th>1</th>\n",
       "      <td>PROVNAME</td>\n",
       "      <td>Provider Name</td>\n",
       "      <td>Provider Name</td>\n",
       "      <td>text</td>\n",
       "    </tr>\n",
       "    <tr>\n",
       "      <th>2</th>\n",
       "      <td>ADDRESS</td>\n",
       "      <td>Provider Address</td>\n",
       "      <td>Provider Address</td>\n",
       "      <td>text</td>\n",
       "    </tr>\n",
       "    <tr>\n",
       "      <th>3</th>\n",
       "      <td>CITY</td>\n",
       "      <td>Provider City</td>\n",
       "      <td>Provider City</td>\n",
       "      <td>text</td>\n",
       "    </tr>\n",
       "    <tr>\n",
       "      <th>4</th>\n",
       "      <td>STATE</td>\n",
       "      <td>Provider State</td>\n",
       "      <td>Provider State</td>\n",
       "      <td>2-character postal abbreviation</td>\n",
       "    </tr>\n",
       "  </tbody>\n",
       "</table>\n",
       "</div>"
      ],
      "text/plain": [
       "   Variable                    Label              Description  \\\n",
       "0   PROVNUM  Federal Provider Number  Federal Provider Number   \n",
       "1  PROVNAME            Provider Name            Provider Name   \n",
       "2   ADDRESS         Provider Address         Provider Address   \n",
       "3      CITY            Provider City            Provider City   \n",
       "4     STATE           Provider State           Provider State   \n",
       "\n",
       "                            Format  \n",
       "0        6 alphanumeric characters  \n",
       "1                             text  \n",
       "2                             text  \n",
       "3                             text  \n",
       "4  2-character postal abbreviation  "
      ]
     },
     "execution_count": 6,
     "metadata": {},
     "output_type": "execute_result"
    }
   ],
   "source": [
    "metadata = pd.read_csv('./ml-data/providers-metadata.csv')\n",
    "metadata.head()"
   ]
  },
  {
   "cell_type": "code",
   "execution_count": 7,
   "metadata": {},
   "outputs": [],
   "source": [
    "data = pd.read_csv('./ml-data/providers-train.csv', encoding='latin1')\n",
    "\n",
    "fine_counts = data.pop('FINE_CNT')\n",
    "fine_totals = data.pop('FINE_TOT')\n",
    "cycle_2_score = data.pop('CYCLE_2_TOTAL_SCORE')"
   ]
  },
  {
   "cell_type": "code",
   "execution_count": 8,
   "metadata": {
    "scrolled": false
   },
   "outputs": [
    {
     "data": {
      "text/html": [
       "<div>\n",
       "<style scoped>\n",
       "    .dataframe tbody tr th:only-of-type {\n",
       "        vertical-align: middle;\n",
       "    }\n",
       "\n",
       "    .dataframe tbody tr th {\n",
       "        vertical-align: top;\n",
       "    }\n",
       "\n",
       "    .dataframe thead th {\n",
       "        text-align: right;\n",
       "    }\n",
       "</style>\n",
       "<table border=\"1\" class=\"dataframe\">\n",
       "  <thead>\n",
       "    <tr style=\"text-align: right;\">\n",
       "      <th></th>\n",
       "      <th>PROVNUM</th>\n",
       "      <th>PROVNAME</th>\n",
       "      <th>ADDRESS</th>\n",
       "      <th>CITY</th>\n",
       "      <th>STATE</th>\n",
       "      <th>ZIP</th>\n",
       "      <th>PHONE</th>\n",
       "      <th>COUNTY_SSA</th>\n",
       "      <th>COUNTY_NAME</th>\n",
       "      <th>BEDCERT</th>\n",
       "      <th>...</th>\n",
       "      <th>CERTIFICATION</th>\n",
       "      <th>CYCLE_1_DEFS</th>\n",
       "      <th>CYCLE_1_NFROMDEFS</th>\n",
       "      <th>CYCLE_1_NFROMCOMP</th>\n",
       "      <th>CYCLE_1_DEFS_SCORE</th>\n",
       "      <th>CYCLE_1_NUMREVIS</th>\n",
       "      <th>CYCLE_1_REVISIT_SCORE</th>\n",
       "      <th>CYCLE_1_TOTAL_SCORE</th>\n",
       "      <th>CYCLE_1_SURVEY_DATE</th>\n",
       "      <th>CYCLE_2_SURVEY_DATE</th>\n",
       "    </tr>\n",
       "  </thead>\n",
       "  <tbody>\n",
       "    <tr>\n",
       "      <th>0</th>\n",
       "      <td>015010</td>\n",
       "      <td>COOSA VALLEY NURSING FACILITY</td>\n",
       "      <td>315 WEST HICKORY STREET</td>\n",
       "      <td>SYLACAUGA</td>\n",
       "      <td>AL</td>\n",
       "      <td>35150</td>\n",
       "      <td>2562495604</td>\n",
       "      <td>600</td>\n",
       "      <td>Talladega</td>\n",
       "      <td>85</td>\n",
       "      <td>...</td>\n",
       "      <td>Medicare and Medicaid</td>\n",
       "      <td>7</td>\n",
       "      <td>7</td>\n",
       "      <td>0</td>\n",
       "      <td>36</td>\n",
       "      <td>1</td>\n",
       "      <td>0</td>\n",
       "      <td>36</td>\n",
       "      <td>2017-04-06</td>\n",
       "      <td>2016-05-26</td>\n",
       "    </tr>\n",
       "    <tr>\n",
       "      <th>1</th>\n",
       "      <td>015012</td>\n",
       "      <td>HIGHLANDS HEALTH AND REHAB</td>\n",
       "      <td>380 WOODS COVE ROAD</td>\n",
       "      <td>SCOTTSBORO</td>\n",
       "      <td>AL</td>\n",
       "      <td>35768</td>\n",
       "      <td>2562183708</td>\n",
       "      <td>350</td>\n",
       "      <td>Jackson</td>\n",
       "      <td>50</td>\n",
       "      <td>...</td>\n",
       "      <td>Medicare and Medicaid</td>\n",
       "      <td>5</td>\n",
       "      <td>5</td>\n",
       "      <td>0</td>\n",
       "      <td>44</td>\n",
       "      <td>1</td>\n",
       "      <td>0</td>\n",
       "      <td>44</td>\n",
       "      <td>2017-03-16</td>\n",
       "      <td>2016-02-04</td>\n",
       "    </tr>\n",
       "    <tr>\n",
       "      <th>2</th>\n",
       "      <td>015014</td>\n",
       "      <td>EASTVIEW REHABILITATION &amp; HEALTHCARE CENTER</td>\n",
       "      <td>7755 FOURTH AVENUE SOUTH</td>\n",
       "      <td>BIRMINGHAM</td>\n",
       "      <td>AL</td>\n",
       "      <td>35206</td>\n",
       "      <td>2058330146</td>\n",
       "      <td>360</td>\n",
       "      <td>Jefferson</td>\n",
       "      <td>92</td>\n",
       "      <td>...</td>\n",
       "      <td>Medicare and Medicaid</td>\n",
       "      <td>6</td>\n",
       "      <td>6</td>\n",
       "      <td>0</td>\n",
       "      <td>40</td>\n",
       "      <td>1</td>\n",
       "      <td>0</td>\n",
       "      <td>40</td>\n",
       "      <td>2016-10-20</td>\n",
       "      <td>2015-12-30</td>\n",
       "    </tr>\n",
       "    <tr>\n",
       "      <th>3</th>\n",
       "      <td>015015</td>\n",
       "      <td>PLANTATION MANOR NURSING HOME</td>\n",
       "      <td>6450 OLD TUSCALOOSA HIGHWAY   P O BOX 97</td>\n",
       "      <td>MC CALLA</td>\n",
       "      <td>AL</td>\n",
       "      <td>35111</td>\n",
       "      <td>2054776161</td>\n",
       "      <td>360</td>\n",
       "      <td>Jefferson</td>\n",
       "      <td>103</td>\n",
       "      <td>...</td>\n",
       "      <td>Medicare and Medicaid</td>\n",
       "      <td>2</td>\n",
       "      <td>2</td>\n",
       "      <td>0</td>\n",
       "      <td>16</td>\n",
       "      <td>1</td>\n",
       "      <td>0</td>\n",
       "      <td>16</td>\n",
       "      <td>2017-03-09</td>\n",
       "      <td>2016-02-11</td>\n",
       "    </tr>\n",
       "    <tr>\n",
       "      <th>4</th>\n",
       "      <td>015016</td>\n",
       "      <td>ATHENS HEALTH AND REHABILITATION LLC</td>\n",
       "      <td>611 WEST MARKET STREET</td>\n",
       "      <td>ATHENS</td>\n",
       "      <td>AL</td>\n",
       "      <td>35611</td>\n",
       "      <td>2562321620</td>\n",
       "      <td>410</td>\n",
       "      <td>Limestone</td>\n",
       "      <td>149</td>\n",
       "      <td>...</td>\n",
       "      <td>Medicare and Medicaid</td>\n",
       "      <td>2</td>\n",
       "      <td>2</td>\n",
       "      <td>0</td>\n",
       "      <td>20</td>\n",
       "      <td>1</td>\n",
       "      <td>0</td>\n",
       "      <td>20</td>\n",
       "      <td>2017-06-01</td>\n",
       "      <td>2016-05-12</td>\n",
       "    </tr>\n",
       "  </tbody>\n",
       "</table>\n",
       "<p>5 rows × 29 columns</p>\n",
       "</div>"
      ],
      "text/plain": [
       "  PROVNUM                                     PROVNAME  \\\n",
       "0  015010                COOSA VALLEY NURSING FACILITY   \n",
       "1  015012                   HIGHLANDS HEALTH AND REHAB   \n",
       "2  015014  EASTVIEW REHABILITATION & HEALTHCARE CENTER   \n",
       "3  015015                PLANTATION MANOR NURSING HOME   \n",
       "4  015016         ATHENS HEALTH AND REHABILITATION LLC   \n",
       "\n",
       "                                    ADDRESS        CITY STATE    ZIP  \\\n",
       "0                   315 WEST HICKORY STREET   SYLACAUGA    AL  35150   \n",
       "1                       380 WOODS COVE ROAD  SCOTTSBORO    AL  35768   \n",
       "2                  7755 FOURTH AVENUE SOUTH  BIRMINGHAM    AL  35206   \n",
       "3  6450 OLD TUSCALOOSA HIGHWAY   P O BOX 97    MC CALLA    AL  35111   \n",
       "4                    611 WEST MARKET STREET      ATHENS    AL  35611   \n",
       "\n",
       "        PHONE  COUNTY_SSA COUNTY_NAME  BEDCERT  ...          CERTIFICATION  \\\n",
       "0  2562495604         600   Talladega       85  ...  Medicare and Medicaid   \n",
       "1  2562183708         350     Jackson       50  ...  Medicare and Medicaid   \n",
       "2  2058330146         360   Jefferson       92  ...  Medicare and Medicaid   \n",
       "3  2054776161         360   Jefferson      103  ...  Medicare and Medicaid   \n",
       "4  2562321620         410   Limestone      149  ...  Medicare and Medicaid   \n",
       "\n",
       "   CYCLE_1_DEFS  CYCLE_1_NFROMDEFS  CYCLE_1_NFROMCOMP  CYCLE_1_DEFS_SCORE  \\\n",
       "0             7                  7                  0                  36   \n",
       "1             5                  5                  0                  44   \n",
       "2             6                  6                  0                  40   \n",
       "3             2                  2                  0                  16   \n",
       "4             2                  2                  0                  20   \n",
       "\n",
       "   CYCLE_1_NUMREVIS  CYCLE_1_REVISIT_SCORE  CYCLE_1_TOTAL_SCORE  \\\n",
       "0                 1                      0                   36   \n",
       "1                 1                      0                   44   \n",
       "2                 1                      0                   40   \n",
       "3                 1                      0                   16   \n",
       "4                 1                      0                   20   \n",
       "\n",
       "  CYCLE_1_SURVEY_DATE CYCLE_2_SURVEY_DATE  \n",
       "0          2017-04-06          2016-05-26  \n",
       "1          2017-03-16          2016-02-04  \n",
       "2          2016-10-20          2015-12-30  \n",
       "3          2017-03-09          2016-02-11  \n",
       "4          2017-06-01          2016-05-12  \n",
       "\n",
       "[5 rows x 29 columns]"
      ]
     },
     "execution_count": 8,
     "metadata": {},
     "output_type": "execute_result"
    }
   ],
   "source": [
    "data.head()"
   ]
  },
  {
   "cell_type": "code",
   "execution_count": 9,
   "metadata": {},
   "outputs": [
    {
     "data": {
      "text/plain": [
       "(13892, 29)"
      ]
     },
     "execution_count": 9,
     "metadata": {},
     "output_type": "execute_result"
    }
   ],
   "source": [
    "data.shape"
   ]
  },
  {
   "cell_type": "code",
   "execution_count": 10,
   "metadata": {},
   "outputs": [
    {
     "data": {
      "text/plain": [
       "array(['AL', 'AK', 'AZ', 'AR', 'CA', 'CO', 'CT', 'DE', 'DC', 'FL', 'GA',\n",
       "       'HI', 'ID', 'IL', 'IN', 'IA', 'KS', 'KY', 'LA', 'ME', 'MD', 'MA',\n",
       "       'MI', 'MN', 'MS', 'MO', 'MT', 'NE', 'NV', 'NH', 'NJ', 'NM', 'NY',\n",
       "       'NC', 'ND', 'OH', 'OK', 'OR', 'PA', 'PR', 'RI', 'SC', 'SD', 'TN',\n",
       "       'TX', 'UT', 'VT', 'VA', 'WA', 'WV', 'WI', 'WY', 'GU'], dtype=object)"
      ]
     },
     "execution_count": 10,
     "metadata": {},
     "output_type": "execute_result"
    }
   ],
   "source": [
    "data['STATE'].unique()"
   ]
  },
  {
   "cell_type": "code",
   "execution_count": 11,
   "metadata": {},
   "outputs": [],
   "source": [
    "# Predict amount of fine based on STATE of nursing home"
   ]
  },
  {
   "cell_type": "code",
   "execution_count": 12,
   "metadata": {},
   "outputs": [
    {
     "data": {
      "text/plain": [
       "STATE\n",
       "AK    0.812500\n",
       "AL    0.233010\n",
       "AR    0.626866\n",
       "AZ    0.079365\n",
       "CA    0.289179\n",
       "Name: FINE_CNT, dtype: float64"
      ]
     },
     "execution_count": 12,
     "metadata": {},
     "output_type": "execute_result"
    }
   ],
   "source": [
    "fine_counts.groupby(data['STATE']).mean().head()"
   ]
  },
  {
   "cell_type": "code",
   "execution_count": 13,
   "metadata": {},
   "outputs": [
    {
     "data": {
      "text/plain": [
       "STATE\n",
       "AK    15932.750000\n",
       "AL    13672.320388\n",
       "AR    17596.681592\n",
       "AZ     1512.722222\n",
       "CA     8054.977612\n",
       "Name: FINE_TOT, dtype: float64"
      ]
     },
     "execution_count": 13,
     "metadata": {},
     "output_type": "execute_result"
    }
   ],
   "source": [
    "fine_totals.groupby(data['STATE']).mean().head() # groups all entries for each STATE and outputs their mean\n",
    "# pandas documentation good example!\n",
    "# here, use data['STATE'] as a kind of index (not actually in DF y, like normal groupby)"
   ]
  },
  {
   "cell_type": "markdown",
   "metadata": {},
   "source": [
    "## Question 1: state_model\n",
    "\n",
    "A federal agency, Centers for Medicare and Medicaid Services (CMS), imposes regulations on nursing homes. However, nursing homes are inspected by state agencies for compliance with regulations, and fines for violations can vary widely between states.\n",
    "\n",
    "Let's develop a very simple initial model to predict the amount of fines a nursing home might expect to pay based on its location. Fill in the class definition of the custom estimator, `StateMeanEstimator`, below."
   ]
  },
  {
   "cell_type": "markdown",
   "metadata": {},
   "source": [
    "For general template, look up custom estimator in sklearn documentation!"
   ]
  },
  {
   "cell_type": "code",
   "execution_count": 14,
   "metadata": {},
   "outputs": [],
   "source": [
    "from sklearn.base import BaseEstimator, RegressorMixin, TransformerMixin\n",
    "\n",
    "# want to predict method to output mean of state!\n",
    "class GroupMeanEstimator(BaseEstimator, RegressorMixin):\n",
    "    '''Assume: X is a pd DF, y is a pd Series.\n",
    "       Grouper is the name of a column in X.\n",
    "       Goal: (1) (fit) group the data in y, using the column 'grouper' from X (indexes) and compute mean of y (in groups),\n",
    "       store in self.group_averages (dictionary)\n",
    "       (2) (predict) will use the column 'grouper' in X to predict values\n",
    "    '''\n",
    "    def __init__(self, grouper):\n",
    "        self.grouper = grouper\n",
    "        self.group_averages = {} # fill this dict in the fit method, don't NEED to do this here, but nice reminder\n",
    "        self.global_average = 0 # reminder\n",
    "        \n",
    "    def fit(self, X, y):\n",
    "        # Use self.group_averages to store the average penalty by group\n",
    "        # if input not pandas DF, convert to one\n",
    "        if not isinstance(X, pd.DataFrame):\n",
    "            X = pd.DataFrame(X)\n",
    "        self.group_averages = y.groupby(X[self.grouper]).mean().to_dict() # .to_dict() converts series to dict, as required by __init__ method. Easy to look things up!\n",
    "        self.global_average = y.mean()\n",
    "        return self # A reference to the object that is residing in memory. \n",
    "                    # Line of output represents return self. It allows method chaining.\n",
    "\n",
    "    # Should ALWAYS return one row for each row in X (1 ouput per observation i in [0, N])\n",
    "    def predict(self, X):\n",
    "        # Return a list of predicted penalties based on group of samples in X\n",
    "        # if input not pandas DF, convert to one\n",
    "        if not isinstance(X, pd.DataFrame):\n",
    "            X = pd.DataFrame(X)\n",
    "        # use .get() method to predict global mean when looking up State not in dict group_averages\n",
    "        return [self.group_averages.get(group, self.global_average) for group in X[self.grouper]] # grouper can be list of *multiple* columns, in general"
   ]
  },
  {
   "cell_type": "code",
   "execution_count": 15,
   "metadata": {},
   "outputs": [],
   "source": [
    "d = {'AL':10, 'AK':14}"
   ]
  },
  {
   "cell_type": "code",
   "execution_count": 16,
   "metadata": {},
   "outputs": [
    {
     "data": {
      "text/plain": [
       "14"
      ]
     },
     "execution_count": 16,
     "metadata": {},
     "output_type": "execute_result"
    }
   ],
   "source": [
    "d['AK'] # can use square brackets, but returns key error if key does not exist"
   ]
  },
  {
   "cell_type": "code",
   "execution_count": 17,
   "metadata": {},
   "outputs": [
    {
     "name": "stdout",
     "output_type": "stream",
     "text": [
      "None\n"
     ]
    }
   ],
   "source": [
    "print(d.get('AS')) # .get() method for dicts does not return key error! Returns 'None'"
   ]
  },
  {
   "cell_type": "code",
   "execution_count": 18,
   "metadata": {},
   "outputs": [
    {
     "data": {
      "text/plain": [
       "1200"
      ]
     },
     "execution_count": 18,
     "metadata": {},
     "output_type": "execute_result"
    }
   ],
   "source": [
    "d.get('AS', 1200) # can supply output value for keys that do not exist in dict!"
   ]
  },
  {
   "cell_type": "code",
   "execution_count": 19,
   "metadata": {},
   "outputs": [
    {
     "data": {
      "text/plain": [
       "GroupMeanEstimator(grouper='STATE')"
      ]
     },
     "execution_count": 19,
     "metadata": {},
     "output_type": "execute_result"
    }
   ],
   "source": [
    "gme = GroupMeanEstimator(grouper='STATE') # could input any 'grouper' column that the mean is desired for\n",
    "gme.fit(data, fine_totals)"
   ]
  },
  {
   "cell_type": "code",
   "execution_count": 20,
   "metadata": {},
   "outputs": [
    {
     "data": {
      "text/plain": [
       "{'AK': 15932.75,\n",
       " 'AL': 13672.320388349515,\n",
       " 'AR': 17596.6815920398,\n",
       " 'AZ': 1512.7222222222222,\n",
       " 'CA': 8054.977611940299,\n",
       " 'CO': 22112.54591836735,\n",
       " 'CT': 8438.121359223302,\n",
       " 'DC': 27333.933333333334,\n",
       " 'DE': 24899.0,\n",
       " 'FL': 16612.338211382114,\n",
       " 'GA': 29459.975,\n",
       " 'GU': 0.0,\n",
       " 'HI': 16133.309523809523,\n",
       " 'IA': 16565.303571428572,\n",
       " 'ID': 42741.942028985504,\n",
       " 'IL': 6634.197226502311,\n",
       " 'IN': 5626.954545454545,\n",
       " 'KS': 24420.79109589041,\n",
       " 'KY': 32656.315384615384,\n",
       " 'LA': 5611.819277108434,\n",
       " 'MA': 16722.25925925926,\n",
       " 'MD': 42806.67661691542,\n",
       " 'ME': 1275.5869565217392,\n",
       " 'MI': 21437.39746835443,\n",
       " 'MN': 3219.326530612245,\n",
       " 'MO': 7635.160997732426,\n",
       " 'MS': 7595.4812834224595,\n",
       " 'MT': 32754.970588235294,\n",
       " 'NC': 30445.040506329115,\n",
       " 'ND': 560.171052631579,\n",
       " 'NE': 8377.755319148937,\n",
       " 'NH': 260.45588235294116,\n",
       " 'NJ': 3490.756838905775,\n",
       " 'NM': 39652.64705882353,\n",
       " 'NV': 3050.1964285714284,\n",
       " 'NY': 2213.51526032316,\n",
       " 'OH': 8214.822977725675,\n",
       " 'OK': 11812.111111111111,\n",
       " 'OR': 12365.983606557376,\n",
       " 'PA': 9216.964686998395,\n",
       " 'PR': 13563.333333333334,\n",
       " 'RI': 3953.44,\n",
       " 'SC': 28205.171779141103,\n",
       " 'SD': 13476.666666666666,\n",
       " 'TN': 37722.919117647056,\n",
       " 'TX': 18147.119744058502,\n",
       " 'UT': 11496.727272727272,\n",
       " 'VA': 19835.32283464567,\n",
       " 'VT': 16241.14705882353,\n",
       " 'WA': 43295.230769230766,\n",
       " 'WI': 18425.87278106509,\n",
       " 'WV': 52675.85046728972,\n",
       " 'WY': 12007.057142857142}"
      ]
     },
     "execution_count": 20,
     "metadata": {},
     "output_type": "execute_result"
    }
   ],
   "source": [
    "gme.group_averages # attribute stored in fit method"
   ]
  },
  {
   "cell_type": "code",
   "execution_count": 21,
   "metadata": {},
   "outputs": [
    {
     "data": {
      "text/plain": [
       "[13672.320388349515,\n",
       " 13672.320388349515,\n",
       " 13672.320388349515,\n",
       " 13672.320388349515,\n",
       " 13672.320388349515,\n",
       " 13672.320388349515,\n",
       " 13672.320388349515,\n",
       " 13672.320388349515,\n",
       " 13672.320388349515,\n",
       " 13672.320388349515,\n",
       " 13672.320388349515,\n",
       " 13672.320388349515,\n",
       " 13672.320388349515,\n",
       " 13672.320388349515,\n",
       " 13672.320388349515,\n",
       " 13672.320388349515,\n",
       " 13672.320388349515,\n",
       " 13672.320388349515,\n",
       " 13672.320388349515,\n",
       " 13672.320388349515,\n",
       " 13672.320388349515,\n",
       " 13672.320388349515,\n",
       " 13672.320388349515,\n",
       " 13672.320388349515,\n",
       " 13672.320388349515,\n",
       " 13672.320388349515,\n",
       " 13672.320388349515,\n",
       " 13672.320388349515,\n",
       " 13672.320388349515,\n",
       " 13672.320388349515,\n",
       " 13672.320388349515,\n",
       " 13672.320388349515,\n",
       " 13672.320388349515,\n",
       " 13672.320388349515,\n",
       " 13672.320388349515,\n",
       " 13672.320388349515,\n",
       " 13672.320388349515,\n",
       " 13672.320388349515,\n",
       " 13672.320388349515,\n",
       " 13672.320388349515,\n",
       " 13672.320388349515,\n",
       " 13672.320388349515,\n",
       " 13672.320388349515,\n",
       " 13672.320388349515,\n",
       " 13672.320388349515,\n",
       " 13672.320388349515,\n",
       " 13672.320388349515,\n",
       " 13672.320388349515,\n",
       " 13672.320388349515,\n",
       " 13672.320388349515,\n",
       " 13672.320388349515,\n",
       " 13672.320388349515,\n",
       " 13672.320388349515,\n",
       " 13672.320388349515,\n",
       " 13672.320388349515,\n",
       " 13672.320388349515,\n",
       " 13672.320388349515,\n",
       " 13672.320388349515,\n",
       " 13672.320388349515,\n",
       " 13672.320388349515,\n",
       " 13672.320388349515,\n",
       " 13672.320388349515,\n",
       " 13672.320388349515,\n",
       " 13672.320388349515,\n",
       " 13672.320388349515,\n",
       " 13672.320388349515,\n",
       " 13672.320388349515,\n",
       " 13672.320388349515,\n",
       " 13672.320388349515,\n",
       " 13672.320388349515,\n",
       " 13672.320388349515,\n",
       " 13672.320388349515,\n",
       " 13672.320388349515,\n",
       " 13672.320388349515,\n",
       " 13672.320388349515,\n",
       " 13672.320388349515,\n",
       " 13672.320388349515,\n",
       " 13672.320388349515,\n",
       " 13672.320388349515,\n",
       " 13672.320388349515,\n",
       " 13672.320388349515,\n",
       " 13672.320388349515,\n",
       " 13672.320388349515,\n",
       " 13672.320388349515,\n",
       " 13672.320388349515,\n",
       " 13672.320388349515,\n",
       " 13672.320388349515,\n",
       " 13672.320388349515,\n",
       " 13672.320388349515,\n",
       " 13672.320388349515,\n",
       " 13672.320388349515,\n",
       " 13672.320388349515,\n",
       " 13672.320388349515,\n",
       " 13672.320388349515,\n",
       " 13672.320388349515,\n",
       " 13672.320388349515,\n",
       " 13672.320388349515,\n",
       " 13672.320388349515,\n",
       " 13672.320388349515,\n",
       " 13672.320388349515,\n",
       " 13672.320388349515,\n",
       " 13672.320388349515,\n",
       " 13672.320388349515,\n",
       " 13672.320388349515,\n",
       " 13672.320388349515,\n",
       " 13672.320388349515,\n",
       " 13672.320388349515,\n",
       " 13672.320388349515,\n",
       " 13672.320388349515,\n",
       " 13672.320388349515,\n",
       " 13672.320388349515,\n",
       " 13672.320388349515,\n",
       " 13672.320388349515,\n",
       " 13672.320388349515,\n",
       " 13672.320388349515,\n",
       " 13672.320388349515,\n",
       " 13672.320388349515,\n",
       " 13672.320388349515,\n",
       " 13672.320388349515,\n",
       " 13672.320388349515,\n",
       " 13672.320388349515,\n",
       " 13672.320388349515,\n",
       " 13672.320388349515,\n",
       " 13672.320388349515,\n",
       " 13672.320388349515,\n",
       " 13672.320388349515,\n",
       " 13672.320388349515,\n",
       " 13672.320388349515,\n",
       " 13672.320388349515,\n",
       " 13672.320388349515,\n",
       " 13672.320388349515,\n",
       " 13672.320388349515,\n",
       " 13672.320388349515,\n",
       " 13672.320388349515,\n",
       " 13672.320388349515,\n",
       " 13672.320388349515,\n",
       " 13672.320388349515,\n",
       " 13672.320388349515,\n",
       " 13672.320388349515,\n",
       " 13672.320388349515,\n",
       " 13672.320388349515,\n",
       " 13672.320388349515,\n",
       " 13672.320388349515,\n",
       " 13672.320388349515,\n",
       " 13672.320388349515,\n",
       " 13672.320388349515,\n",
       " 13672.320388349515,\n",
       " 13672.320388349515,\n",
       " 13672.320388349515,\n",
       " 13672.320388349515,\n",
       " 13672.320388349515,\n",
       " 13672.320388349515,\n",
       " 13672.320388349515,\n",
       " 13672.320388349515,\n",
       " 13672.320388349515,\n",
       " 13672.320388349515,\n",
       " 13672.320388349515,\n",
       " 13672.320388349515,\n",
       " 13672.320388349515,\n",
       " 13672.320388349515,\n",
       " 13672.320388349515,\n",
       " 13672.320388349515,\n",
       " 13672.320388349515,\n",
       " 13672.320388349515,\n",
       " 13672.320388349515,\n",
       " 13672.320388349515,\n",
       " 13672.320388349515,\n",
       " 13672.320388349515,\n",
       " 13672.320388349515,\n",
       " 13672.320388349515,\n",
       " 13672.320388349515,\n",
       " 13672.320388349515,\n",
       " 13672.320388349515,\n",
       " 13672.320388349515,\n",
       " 13672.320388349515,\n",
       " 13672.320388349515,\n",
       " 13672.320388349515,\n",
       " 13672.320388349515,\n",
       " 13672.320388349515,\n",
       " 13672.320388349515,\n",
       " 13672.320388349515,\n",
       " 13672.320388349515,\n",
       " 13672.320388349515,\n",
       " 13672.320388349515,\n",
       " 13672.320388349515,\n",
       " 13672.320388349515,\n",
       " 13672.320388349515,\n",
       " 13672.320388349515,\n",
       " 13672.320388349515,\n",
       " 13672.320388349515,\n",
       " 13672.320388349515,\n",
       " 13672.320388349515,\n",
       " 13672.320388349515,\n",
       " 13672.320388349515,\n",
       " 13672.320388349515,\n",
       " 13672.320388349515,\n",
       " 13672.320388349515,\n",
       " 13672.320388349515,\n",
       " 13672.320388349515,\n",
       " 13672.320388349515,\n",
       " 13672.320388349515,\n",
       " 13672.320388349515,\n",
       " 13672.320388349515,\n",
       " 13672.320388349515,\n",
       " 13672.320388349515,\n",
       " 13672.320388349515,\n",
       " 15932.75,\n",
       " 15932.75,\n",
       " 15932.75,\n",
       " 15932.75,\n",
       " 15932.75,\n",
       " 15932.75,\n",
       " 15932.75,\n",
       " 15932.75,\n",
       " 15932.75,\n",
       " 15932.75,\n",
       " 15932.75,\n",
       " 15932.75,\n",
       " 15932.75,\n",
       " 15932.75,\n",
       " 15932.75,\n",
       " 15932.75,\n",
       " 1512.7222222222222,\n",
       " 1512.7222222222222,\n",
       " 1512.7222222222222,\n",
       " 1512.7222222222222,\n",
       " 1512.7222222222222,\n",
       " 1512.7222222222222,\n",
       " 1512.7222222222222,\n",
       " 1512.7222222222222,\n",
       " 1512.7222222222222,\n",
       " 1512.7222222222222,\n",
       " 1512.7222222222222,\n",
       " 1512.7222222222222,\n",
       " 1512.7222222222222,\n",
       " 1512.7222222222222,\n",
       " 1512.7222222222222,\n",
       " 1512.7222222222222,\n",
       " 1512.7222222222222,\n",
       " 1512.7222222222222,\n",
       " 1512.7222222222222,\n",
       " 1512.7222222222222,\n",
       " 1512.7222222222222,\n",
       " 1512.7222222222222,\n",
       " 1512.7222222222222,\n",
       " 1512.7222222222222,\n",
       " 1512.7222222222222,\n",
       " 1512.7222222222222,\n",
       " 1512.7222222222222,\n",
       " 1512.7222222222222,\n",
       " 1512.7222222222222,\n",
       " 1512.7222222222222,\n",
       " 1512.7222222222222,\n",
       " 1512.7222222222222,\n",
       " 1512.7222222222222,\n",
       " 1512.7222222222222,\n",
       " 1512.7222222222222,\n",
       " 1512.7222222222222,\n",
       " 1512.7222222222222,\n",
       " 1512.7222222222222,\n",
       " 1512.7222222222222,\n",
       " 1512.7222222222222,\n",
       " 1512.7222222222222,\n",
       " 1512.7222222222222,\n",
       " 1512.7222222222222,\n",
       " 1512.7222222222222,\n",
       " 1512.7222222222222,\n",
       " 1512.7222222222222,\n",
       " 1512.7222222222222,\n",
       " 1512.7222222222222,\n",
       " 1512.7222222222222,\n",
       " 1512.7222222222222,\n",
       " 1512.7222222222222,\n",
       " 1512.7222222222222,\n",
       " 1512.7222222222222,\n",
       " 1512.7222222222222,\n",
       " 1512.7222222222222,\n",
       " 1512.7222222222222,\n",
       " 1512.7222222222222,\n",
       " 1512.7222222222222,\n",
       " 1512.7222222222222,\n",
       " 1512.7222222222222,\n",
       " 1512.7222222222222,\n",
       " 1512.7222222222222,\n",
       " 1512.7222222222222,\n",
       " 1512.7222222222222,\n",
       " 1512.7222222222222,\n",
       " 1512.7222222222222,\n",
       " 1512.7222222222222,\n",
       " 1512.7222222222222,\n",
       " 1512.7222222222222,\n",
       " 1512.7222222222222,\n",
       " 1512.7222222222222,\n",
       " 1512.7222222222222,\n",
       " 1512.7222222222222,\n",
       " 1512.7222222222222,\n",
       " 1512.7222222222222,\n",
       " 1512.7222222222222,\n",
       " 1512.7222222222222,\n",
       " 1512.7222222222222,\n",
       " 1512.7222222222222,\n",
       " 1512.7222222222222,\n",
       " 1512.7222222222222,\n",
       " 1512.7222222222222,\n",
       " 1512.7222222222222,\n",
       " 1512.7222222222222,\n",
       " 1512.7222222222222,\n",
       " 1512.7222222222222,\n",
       " 1512.7222222222222,\n",
       " 1512.7222222222222,\n",
       " 1512.7222222222222,\n",
       " 1512.7222222222222,\n",
       " 1512.7222222222222,\n",
       " 1512.7222222222222,\n",
       " 1512.7222222222222,\n",
       " 1512.7222222222222,\n",
       " 1512.7222222222222,\n",
       " 1512.7222222222222,\n",
       " 1512.7222222222222,\n",
       " 1512.7222222222222,\n",
       " 1512.7222222222222,\n",
       " 1512.7222222222222,\n",
       " 1512.7222222222222,\n",
       " 1512.7222222222222,\n",
       " 1512.7222222222222,\n",
       " 1512.7222222222222,\n",
       " 1512.7222222222222,\n",
       " 1512.7222222222222,\n",
       " 1512.7222222222222,\n",
       " 1512.7222222222222,\n",
       " 1512.7222222222222,\n",
       " 1512.7222222222222,\n",
       " 1512.7222222222222,\n",
       " 1512.7222222222222,\n",
       " 1512.7222222222222,\n",
       " 1512.7222222222222,\n",
       " 1512.7222222222222,\n",
       " 1512.7222222222222,\n",
       " 1512.7222222222222,\n",
       " 1512.7222222222222,\n",
       " 1512.7222222222222,\n",
       " 1512.7222222222222,\n",
       " 1512.7222222222222,\n",
       " 1512.7222222222222,\n",
       " 1512.7222222222222,\n",
       " 1512.7222222222222,\n",
       " 1512.7222222222222,\n",
       " 1512.7222222222222,\n",
       " 17596.6815920398,\n",
       " 17596.6815920398,\n",
       " 17596.6815920398,\n",
       " 17596.6815920398,\n",
       " 17596.6815920398,\n",
       " 17596.6815920398,\n",
       " 17596.6815920398,\n",
       " 17596.6815920398,\n",
       " 17596.6815920398,\n",
       " 17596.6815920398,\n",
       " 17596.6815920398,\n",
       " 17596.6815920398,\n",
       " 17596.6815920398,\n",
       " 17596.6815920398,\n",
       " 17596.6815920398,\n",
       " 17596.6815920398,\n",
       " 17596.6815920398,\n",
       " 17596.6815920398,\n",
       " 17596.6815920398,\n",
       " 17596.6815920398,\n",
       " 17596.6815920398,\n",
       " 17596.6815920398,\n",
       " 17596.6815920398,\n",
       " 17596.6815920398,\n",
       " 17596.6815920398,\n",
       " 17596.6815920398,\n",
       " 17596.6815920398,\n",
       " 17596.6815920398,\n",
       " 17596.6815920398,\n",
       " 17596.6815920398,\n",
       " 17596.6815920398,\n",
       " 17596.6815920398,\n",
       " 17596.6815920398,\n",
       " 17596.6815920398,\n",
       " 17596.6815920398,\n",
       " 17596.6815920398,\n",
       " 17596.6815920398,\n",
       " 17596.6815920398,\n",
       " 17596.6815920398,\n",
       " 17596.6815920398,\n",
       " 17596.6815920398,\n",
       " 17596.6815920398,\n",
       " 17596.6815920398,\n",
       " 17596.6815920398,\n",
       " 17596.6815920398,\n",
       " 17596.6815920398,\n",
       " 17596.6815920398,\n",
       " 17596.6815920398,\n",
       " 17596.6815920398,\n",
       " 17596.6815920398,\n",
       " 17596.6815920398,\n",
       " 17596.6815920398,\n",
       " 17596.6815920398,\n",
       " 17596.6815920398,\n",
       " 17596.6815920398,\n",
       " 17596.6815920398,\n",
       " 17596.6815920398,\n",
       " 17596.6815920398,\n",
       " 17596.6815920398,\n",
       " 17596.6815920398,\n",
       " 17596.6815920398,\n",
       " 17596.6815920398,\n",
       " 17596.6815920398,\n",
       " 17596.6815920398,\n",
       " 17596.6815920398,\n",
       " 17596.6815920398,\n",
       " 17596.6815920398,\n",
       " 17596.6815920398,\n",
       " 17596.6815920398,\n",
       " 17596.6815920398,\n",
       " 17596.6815920398,\n",
       " 17596.6815920398,\n",
       " 17596.6815920398,\n",
       " 17596.6815920398,\n",
       " 17596.6815920398,\n",
       " 17596.6815920398,\n",
       " 17596.6815920398,\n",
       " 17596.6815920398,\n",
       " 17596.6815920398,\n",
       " 17596.6815920398,\n",
       " 17596.6815920398,\n",
       " 17596.6815920398,\n",
       " 17596.6815920398,\n",
       " 17596.6815920398,\n",
       " 17596.6815920398,\n",
       " 17596.6815920398,\n",
       " 17596.6815920398,\n",
       " 17596.6815920398,\n",
       " 17596.6815920398,\n",
       " 17596.6815920398,\n",
       " 17596.6815920398,\n",
       " 17596.6815920398,\n",
       " 17596.6815920398,\n",
       " 17596.6815920398,\n",
       " 17596.6815920398,\n",
       " 17596.6815920398,\n",
       " 17596.6815920398,\n",
       " 17596.6815920398,\n",
       " 17596.6815920398,\n",
       " 17596.6815920398,\n",
       " 17596.6815920398,\n",
       " 17596.6815920398,\n",
       " 17596.6815920398,\n",
       " 17596.6815920398,\n",
       " 17596.6815920398,\n",
       " 17596.6815920398,\n",
       " 17596.6815920398,\n",
       " 17596.6815920398,\n",
       " 17596.6815920398,\n",
       " 17596.6815920398,\n",
       " 17596.6815920398,\n",
       " 17596.6815920398,\n",
       " 17596.6815920398,\n",
       " 17596.6815920398,\n",
       " 17596.6815920398,\n",
       " 17596.6815920398,\n",
       " 17596.6815920398,\n",
       " 17596.6815920398,\n",
       " 17596.6815920398,\n",
       " 17596.6815920398,\n",
       " 17596.6815920398,\n",
       " 17596.6815920398,\n",
       " 17596.6815920398,\n",
       " 17596.6815920398,\n",
       " 17596.6815920398,\n",
       " 17596.6815920398,\n",
       " 17596.6815920398,\n",
       " 17596.6815920398,\n",
       " 17596.6815920398,\n",
       " 17596.6815920398,\n",
       " 17596.6815920398,\n",
       " 17596.6815920398,\n",
       " 17596.6815920398,\n",
       " 17596.6815920398,\n",
       " 17596.6815920398,\n",
       " 17596.6815920398,\n",
       " 17596.6815920398,\n",
       " 17596.6815920398,\n",
       " 17596.6815920398,\n",
       " 17596.6815920398,\n",
       " 17596.6815920398,\n",
       " 17596.6815920398,\n",
       " 17596.6815920398,\n",
       " 17596.6815920398,\n",
       " 17596.6815920398,\n",
       " 17596.6815920398,\n",
       " 17596.6815920398,\n",
       " 17596.6815920398,\n",
       " 17596.6815920398,\n",
       " 17596.6815920398,\n",
       " 17596.6815920398,\n",
       " 17596.6815920398,\n",
       " 17596.6815920398,\n",
       " 17596.6815920398,\n",
       " 17596.6815920398,\n",
       " 17596.6815920398,\n",
       " 17596.6815920398,\n",
       " 17596.6815920398,\n",
       " 17596.6815920398,\n",
       " 17596.6815920398,\n",
       " 17596.6815920398,\n",
       " 17596.6815920398,\n",
       " 17596.6815920398,\n",
       " 17596.6815920398,\n",
       " 17596.6815920398,\n",
       " 17596.6815920398,\n",
       " 17596.6815920398,\n",
       " 17596.6815920398,\n",
       " 17596.6815920398,\n",
       " 17596.6815920398,\n",
       " 17596.6815920398,\n",
       " 17596.6815920398,\n",
       " 17596.6815920398,\n",
       " 17596.6815920398,\n",
       " 17596.6815920398,\n",
       " 17596.6815920398,\n",
       " 17596.6815920398,\n",
       " 17596.6815920398,\n",
       " 17596.6815920398,\n",
       " 17596.6815920398,\n",
       " 17596.6815920398,\n",
       " 17596.6815920398,\n",
       " 17596.6815920398,\n",
       " 17596.6815920398,\n",
       " 17596.6815920398,\n",
       " 17596.6815920398,\n",
       " 17596.6815920398,\n",
       " 17596.6815920398,\n",
       " 17596.6815920398,\n",
       " 17596.6815920398,\n",
       " 17596.6815920398,\n",
       " 17596.6815920398,\n",
       " 17596.6815920398,\n",
       " 17596.6815920398,\n",
       " 17596.6815920398,\n",
       " 17596.6815920398,\n",
       " 17596.6815920398,\n",
       " 17596.6815920398,\n",
       " 17596.6815920398,\n",
       " 17596.6815920398,\n",
       " 17596.6815920398,\n",
       " 8054.977611940299,\n",
       " 8054.977611940299,\n",
       " 8054.977611940299,\n",
       " 8054.977611940299,\n",
       " 8054.977611940299,\n",
       " 8054.977611940299,\n",
       " 8054.977611940299,\n",
       " 8054.977611940299,\n",
       " 8054.977611940299,\n",
       " 8054.977611940299,\n",
       " 8054.977611940299,\n",
       " 8054.977611940299,\n",
       " 8054.977611940299,\n",
       " 8054.977611940299,\n",
       " 8054.977611940299,\n",
       " 8054.977611940299,\n",
       " 8054.977611940299,\n",
       " 8054.977611940299,\n",
       " 8054.977611940299,\n",
       " 8054.977611940299,\n",
       " 8054.977611940299,\n",
       " 8054.977611940299,\n",
       " 8054.977611940299,\n",
       " 8054.977611940299,\n",
       " 8054.977611940299,\n",
       " 8054.977611940299,\n",
       " 8054.977611940299,\n",
       " 8054.977611940299,\n",
       " 8054.977611940299,\n",
       " 8054.977611940299,\n",
       " 8054.977611940299,\n",
       " 8054.977611940299,\n",
       " 8054.977611940299,\n",
       " 8054.977611940299,\n",
       " 8054.977611940299,\n",
       " 8054.977611940299,\n",
       " 8054.977611940299,\n",
       " 8054.977611940299,\n",
       " 8054.977611940299,\n",
       " 8054.977611940299,\n",
       " 8054.977611940299,\n",
       " 8054.977611940299,\n",
       " 8054.977611940299,\n",
       " 8054.977611940299,\n",
       " 8054.977611940299,\n",
       " 8054.977611940299,\n",
       " 8054.977611940299,\n",
       " 8054.977611940299,\n",
       " 8054.977611940299,\n",
       " 8054.977611940299,\n",
       " 8054.977611940299,\n",
       " 8054.977611940299,\n",
       " 8054.977611940299,\n",
       " 8054.977611940299,\n",
       " 8054.977611940299,\n",
       " 8054.977611940299,\n",
       " 8054.977611940299,\n",
       " 8054.977611940299,\n",
       " 8054.977611940299,\n",
       " 8054.977611940299,\n",
       " 8054.977611940299,\n",
       " 8054.977611940299,\n",
       " 8054.977611940299,\n",
       " 8054.977611940299,\n",
       " 8054.977611940299,\n",
       " 8054.977611940299,\n",
       " 8054.977611940299,\n",
       " 8054.977611940299,\n",
       " 8054.977611940299,\n",
       " 8054.977611940299,\n",
       " 8054.977611940299,\n",
       " 8054.977611940299,\n",
       " 8054.977611940299,\n",
       " 8054.977611940299,\n",
       " 8054.977611940299,\n",
       " 8054.977611940299,\n",
       " 8054.977611940299,\n",
       " 8054.977611940299,\n",
       " 8054.977611940299,\n",
       " 8054.977611940299,\n",
       " 8054.977611940299,\n",
       " 8054.977611940299,\n",
       " 8054.977611940299,\n",
       " 8054.977611940299,\n",
       " 8054.977611940299,\n",
       " 8054.977611940299,\n",
       " 8054.977611940299,\n",
       " 8054.977611940299,\n",
       " 8054.977611940299,\n",
       " 8054.977611940299,\n",
       " 8054.977611940299,\n",
       " 8054.977611940299,\n",
       " 8054.977611940299,\n",
       " 8054.977611940299,\n",
       " 8054.977611940299,\n",
       " 8054.977611940299,\n",
       " 8054.977611940299,\n",
       " 8054.977611940299,\n",
       " 8054.977611940299,\n",
       " 8054.977611940299,\n",
       " 8054.977611940299,\n",
       " 8054.977611940299,\n",
       " 8054.977611940299,\n",
       " 8054.977611940299,\n",
       " 8054.977611940299,\n",
       " 8054.977611940299,\n",
       " 8054.977611940299,\n",
       " 8054.977611940299,\n",
       " 8054.977611940299,\n",
       " 8054.977611940299,\n",
       " 8054.977611940299,\n",
       " 8054.977611940299,\n",
       " 8054.977611940299,\n",
       " 8054.977611940299,\n",
       " 8054.977611940299,\n",
       " 8054.977611940299,\n",
       " 8054.977611940299,\n",
       " 8054.977611940299,\n",
       " 8054.977611940299,\n",
       " 8054.977611940299,\n",
       " 8054.977611940299,\n",
       " 8054.977611940299,\n",
       " 8054.977611940299,\n",
       " 8054.977611940299,\n",
       " 8054.977611940299,\n",
       " 8054.977611940299,\n",
       " 8054.977611940299,\n",
       " 8054.977611940299,\n",
       " 8054.977611940299,\n",
       " 8054.977611940299,\n",
       " 8054.977611940299,\n",
       " 8054.977611940299,\n",
       " 8054.977611940299,\n",
       " 8054.977611940299,\n",
       " 8054.977611940299,\n",
       " 8054.977611940299,\n",
       " 8054.977611940299,\n",
       " 8054.977611940299,\n",
       " 8054.977611940299,\n",
       " 8054.977611940299,\n",
       " 8054.977611940299,\n",
       " 8054.977611940299,\n",
       " 8054.977611940299,\n",
       " 8054.977611940299,\n",
       " 8054.977611940299,\n",
       " 8054.977611940299,\n",
       " 8054.977611940299,\n",
       " 8054.977611940299,\n",
       " 8054.977611940299,\n",
       " 8054.977611940299,\n",
       " 8054.977611940299,\n",
       " 8054.977611940299,\n",
       " 8054.977611940299,\n",
       " 8054.977611940299,\n",
       " 8054.977611940299,\n",
       " 8054.977611940299,\n",
       " 8054.977611940299,\n",
       " 8054.977611940299,\n",
       " 8054.977611940299,\n",
       " 8054.977611940299,\n",
       " 8054.977611940299,\n",
       " 8054.977611940299,\n",
       " 8054.977611940299,\n",
       " 8054.977611940299,\n",
       " 8054.977611940299,\n",
       " 8054.977611940299,\n",
       " 8054.977611940299,\n",
       " 8054.977611940299,\n",
       " 8054.977611940299,\n",
       " 8054.977611940299,\n",
       " 8054.977611940299,\n",
       " 8054.977611940299,\n",
       " 8054.977611940299,\n",
       " 8054.977611940299,\n",
       " 8054.977611940299,\n",
       " 8054.977611940299,\n",
       " 8054.977611940299,\n",
       " 8054.977611940299,\n",
       " 8054.977611940299,\n",
       " 8054.977611940299,\n",
       " 8054.977611940299,\n",
       " 8054.977611940299,\n",
       " 8054.977611940299,\n",
       " 8054.977611940299,\n",
       " 8054.977611940299,\n",
       " 8054.977611940299,\n",
       " 8054.977611940299,\n",
       " 8054.977611940299,\n",
       " 8054.977611940299,\n",
       " 8054.977611940299,\n",
       " 8054.977611940299,\n",
       " 8054.977611940299,\n",
       " 8054.977611940299,\n",
       " 8054.977611940299,\n",
       " 8054.977611940299,\n",
       " 8054.977611940299,\n",
       " 8054.977611940299,\n",
       " 8054.977611940299,\n",
       " 8054.977611940299,\n",
       " 8054.977611940299,\n",
       " 8054.977611940299,\n",
       " 8054.977611940299,\n",
       " 8054.977611940299,\n",
       " 8054.977611940299,\n",
       " 8054.977611940299,\n",
       " 8054.977611940299,\n",
       " 8054.977611940299,\n",
       " 8054.977611940299,\n",
       " 8054.977611940299,\n",
       " 8054.977611940299,\n",
       " 8054.977611940299,\n",
       " 8054.977611940299,\n",
       " 8054.977611940299,\n",
       " 8054.977611940299,\n",
       " 8054.977611940299,\n",
       " 8054.977611940299,\n",
       " 8054.977611940299,\n",
       " 8054.977611940299,\n",
       " 8054.977611940299,\n",
       " 8054.977611940299,\n",
       " 8054.977611940299,\n",
       " 8054.977611940299,\n",
       " 8054.977611940299,\n",
       " 8054.977611940299,\n",
       " 8054.977611940299,\n",
       " 8054.977611940299,\n",
       " 8054.977611940299,\n",
       " 8054.977611940299,\n",
       " 8054.977611940299,\n",
       " 8054.977611940299,\n",
       " 8054.977611940299,\n",
       " 8054.977611940299,\n",
       " 8054.977611940299,\n",
       " 8054.977611940299,\n",
       " 8054.977611940299,\n",
       " 8054.977611940299,\n",
       " 8054.977611940299,\n",
       " 8054.977611940299,\n",
       " 8054.977611940299,\n",
       " 8054.977611940299,\n",
       " 8054.977611940299,\n",
       " 8054.977611940299,\n",
       " 8054.977611940299,\n",
       " 8054.977611940299,\n",
       " 8054.977611940299,\n",
       " 8054.977611940299,\n",
       " 8054.977611940299,\n",
       " 8054.977611940299,\n",
       " 8054.977611940299,\n",
       " 8054.977611940299,\n",
       " 8054.977611940299,\n",
       " 8054.977611940299,\n",
       " 8054.977611940299,\n",
       " 8054.977611940299,\n",
       " 8054.977611940299,\n",
       " 8054.977611940299,\n",
       " 8054.977611940299,\n",
       " 8054.977611940299,\n",
       " 8054.977611940299,\n",
       " 8054.977611940299,\n",
       " 8054.977611940299,\n",
       " 8054.977611940299,\n",
       " 8054.977611940299,\n",
       " 8054.977611940299,\n",
       " 8054.977611940299,\n",
       " 8054.977611940299,\n",
       " 8054.977611940299,\n",
       " 8054.977611940299,\n",
       " 8054.977611940299,\n",
       " 8054.977611940299,\n",
       " 8054.977611940299,\n",
       " 8054.977611940299,\n",
       " 8054.977611940299,\n",
       " 8054.977611940299,\n",
       " 8054.977611940299,\n",
       " 8054.977611940299,\n",
       " 8054.977611940299,\n",
       " 8054.977611940299,\n",
       " 8054.977611940299,\n",
       " 8054.977611940299,\n",
       " 8054.977611940299,\n",
       " 8054.977611940299,\n",
       " 8054.977611940299,\n",
       " 8054.977611940299,\n",
       " 8054.977611940299,\n",
       " 8054.977611940299,\n",
       " 8054.977611940299,\n",
       " 8054.977611940299,\n",
       " 8054.977611940299,\n",
       " 8054.977611940299,\n",
       " 8054.977611940299,\n",
       " 8054.977611940299,\n",
       " 8054.977611940299,\n",
       " 8054.977611940299,\n",
       " 8054.977611940299,\n",
       " 8054.977611940299,\n",
       " 8054.977611940299,\n",
       " 8054.977611940299,\n",
       " 8054.977611940299,\n",
       " 8054.977611940299,\n",
       " 8054.977611940299,\n",
       " 8054.977611940299,\n",
       " 8054.977611940299,\n",
       " 8054.977611940299,\n",
       " 8054.977611940299,\n",
       " 8054.977611940299,\n",
       " 8054.977611940299,\n",
       " 8054.977611940299,\n",
       " 8054.977611940299,\n",
       " 8054.977611940299,\n",
       " 8054.977611940299,\n",
       " 8054.977611940299,\n",
       " 8054.977611940299,\n",
       " 8054.977611940299,\n",
       " 8054.977611940299,\n",
       " 8054.977611940299,\n",
       " 8054.977611940299,\n",
       " 8054.977611940299,\n",
       " 8054.977611940299,\n",
       " 8054.977611940299,\n",
       " 8054.977611940299,\n",
       " 8054.977611940299,\n",
       " 8054.977611940299,\n",
       " 8054.977611940299,\n",
       " 8054.977611940299,\n",
       " 8054.977611940299,\n",
       " 8054.977611940299,\n",
       " 8054.977611940299,\n",
       " 8054.977611940299,\n",
       " 8054.977611940299,\n",
       " 8054.977611940299,\n",
       " 8054.977611940299,\n",
       " 8054.977611940299,\n",
       " 8054.977611940299,\n",
       " 8054.977611940299,\n",
       " 8054.977611940299,\n",
       " 8054.977611940299,\n",
       " 8054.977611940299,\n",
       " 8054.977611940299,\n",
       " 8054.977611940299,\n",
       " 8054.977611940299,\n",
       " 8054.977611940299,\n",
       " 8054.977611940299,\n",
       " 8054.977611940299,\n",
       " 8054.977611940299,\n",
       " 8054.977611940299,\n",
       " 8054.977611940299,\n",
       " 8054.977611940299,\n",
       " 8054.977611940299,\n",
       " 8054.977611940299,\n",
       " 8054.977611940299,\n",
       " 8054.977611940299,\n",
       " 8054.977611940299,\n",
       " 8054.977611940299,\n",
       " 8054.977611940299,\n",
       " 8054.977611940299,\n",
       " 8054.977611940299,\n",
       " 8054.977611940299,\n",
       " 8054.977611940299,\n",
       " 8054.977611940299,\n",
       " 8054.977611940299,\n",
       " 8054.977611940299,\n",
       " 8054.977611940299,\n",
       " 8054.977611940299,\n",
       " 8054.977611940299,\n",
       " 8054.977611940299,\n",
       " 8054.977611940299,\n",
       " 8054.977611940299,\n",
       " 8054.977611940299,\n",
       " 8054.977611940299,\n",
       " 8054.977611940299,\n",
       " 8054.977611940299,\n",
       " 8054.977611940299,\n",
       " 8054.977611940299,\n",
       " 8054.977611940299,\n",
       " 8054.977611940299,\n",
       " 8054.977611940299,\n",
       " 8054.977611940299,\n",
       " 8054.977611940299,\n",
       " 8054.977611940299,\n",
       " 8054.977611940299,\n",
       " 8054.977611940299,\n",
       " 8054.977611940299,\n",
       " 8054.977611940299,\n",
       " 8054.977611940299,\n",
       " 8054.977611940299,\n",
       " 8054.977611940299,\n",
       " 8054.977611940299,\n",
       " 8054.977611940299,\n",
       " 8054.977611940299,\n",
       " 8054.977611940299,\n",
       " 8054.977611940299,\n",
       " 8054.977611940299,\n",
       " 8054.977611940299,\n",
       " 8054.977611940299,\n",
       " 8054.977611940299,\n",
       " 8054.977611940299,\n",
       " 8054.977611940299,\n",
       " 8054.977611940299,\n",
       " 8054.977611940299,\n",
       " 8054.977611940299,\n",
       " 8054.977611940299,\n",
       " 8054.977611940299,\n",
       " 8054.977611940299,\n",
       " 8054.977611940299,\n",
       " 8054.977611940299,\n",
       " 8054.977611940299,\n",
       " 8054.977611940299,\n",
       " 8054.977611940299,\n",
       " 8054.977611940299,\n",
       " 8054.977611940299,\n",
       " 8054.977611940299,\n",
       " 8054.977611940299,\n",
       " 8054.977611940299,\n",
       " 8054.977611940299,\n",
       " 8054.977611940299,\n",
       " 8054.977611940299,\n",
       " 8054.977611940299,\n",
       " 8054.977611940299,\n",
       " 8054.977611940299,\n",
       " 8054.977611940299,\n",
       " 8054.977611940299,\n",
       " 8054.977611940299,\n",
       " 8054.977611940299,\n",
       " 8054.977611940299,\n",
       " 8054.977611940299,\n",
       " 8054.977611940299,\n",
       " 8054.977611940299,\n",
       " 8054.977611940299,\n",
       " 8054.977611940299,\n",
       " 8054.977611940299,\n",
       " 8054.977611940299,\n",
       " 8054.977611940299,\n",
       " 8054.977611940299,\n",
       " 8054.977611940299,\n",
       " 8054.977611940299,\n",
       " 8054.977611940299,\n",
       " 8054.977611940299,\n",
       " 8054.977611940299,\n",
       " 8054.977611940299,\n",
       " 8054.977611940299,\n",
       " 8054.977611940299,\n",
       " 8054.977611940299,\n",
       " 8054.977611940299,\n",
       " 8054.977611940299,\n",
       " 8054.977611940299,\n",
       " 8054.977611940299,\n",
       " 8054.977611940299,\n",
       " 8054.977611940299,\n",
       " 8054.977611940299,\n",
       " 8054.977611940299,\n",
       " ...]"
      ]
     },
     "execution_count": 21,
     "metadata": {},
     "output_type": "execute_result"
    }
   ],
   "source": [
    "gme.predict(data) # different values represent nursing homes in different states!"
   ]
  },
  {
   "cell_type": "markdown",
   "metadata": {},
   "source": [
    "After filling in class definition, we can create an instance of the estimator and fit it to the data."
   ]
  },
  {
   "cell_type": "code",
   "execution_count": 22,
   "metadata": {},
   "outputs": [
    {
     "data": {
      "text/plain": [
       "Pipeline(memory=None, steps=[('sme', GroupMeanEstimator(grouper='STATE'))],\n",
       "         verbose=False)"
      ]
     },
     "execution_count": 22,
     "metadata": {},
     "output_type": "execute_result"
    }
   ],
   "source": [
    "from sklearn.pipeline import Pipeline\n",
    "\n",
    "state_model = Pipeline([\n",
    "    ('sme', GroupMeanEstimator(grouper='STATE'))\n",
    "    ])\n",
    "state_model.fit(data, fine_totals)"
   ]
  },
  {
   "cell_type": "markdown",
   "metadata": {},
   "source": [
    "Next we should test that our predict method works."
   ]
  },
  {
   "cell_type": "code",
   "execution_count": 23,
   "metadata": {},
   "outputs": [
    {
     "data": {
      "text/plain": [
       "[18425.87278106509,\n",
       " 16565.303571428572,\n",
       " 18425.87278106509,\n",
       " 8214.822977725675,\n",
       " 7635.160997732426]"
      ]
     },
     "execution_count": 23,
     "metadata": {},
     "output_type": "execute_result"
    }
   ],
   "source": [
    "state_model.predict(data.sample(5))"
   ]
  },
  {
   "cell_type": "markdown",
   "metadata": {},
   "source": [
    "However, what if we have data from a nursing home in a state (or territory) of the US which is **not** in the training data?"
   ]
  },
  {
   "cell_type": "code",
   "execution_count": 24,
   "metadata": {},
   "outputs": [
    {
     "data": {
      "text/plain": [
       "[14969.857687877915]"
      ]
     },
     "execution_count": 24,
     "metadata": {},
     "output_type": "execute_result"
    }
   ],
   "source": [
    "state_model.predict(pd.DataFrame([{'STATE': 'AS'}])) # trying to look up key that isn't in dictionary!\n",
    "# need to add to fit method to inpute GLOBAL mean"
   ]
  },
  {
   "cell_type": "markdown",
   "metadata": {},
   "source": [
    "Make sure your model can handle this possibility before submitting your model's predict method to the grader."
   ]
  },
  {
   "cell_type": "code",
   "execution_count": 25,
   "metadata": {},
   "outputs": [
    {
     "name": "stdout",
     "output_type": "stream",
     "text": [
      "==================\n",
      "Your score:  0.9999999999999999\n",
      "==================\n"
     ]
    }
   ],
   "source": [
    "grader.score.ml__state_model(state_model.predict)"
   ]
  },
  {
   "cell_type": "markdown",
   "metadata": {},
   "source": [
    "## Question 2: simple_features_model\n",
    "\n",
    "Only using numeric and boolean (0/1) features.\n",
    "\n",
    "Nursing homes vary greatly in their business characteristics. Some are owned by the government or non-profits while others are run for profit. Some house a few dozen residents while others house hundreds. Some are located within hospitals and may work with more vulnerable populations. We will try to predict which facilities are fined based on their business characteristics.\n",
    "\n",
    "We'll begin with columns in our DataFrame containing numeric and boolean features. Some of the rows contain null values; estimators cannot handle null values so these must be imputed or dropped. We will create a `Pipeline` containing transformers that process these features, followed by an estimator.\n",
    "\n",
    "**Note:** When the grader checks your answer, it passes a list of dictionaries to the `predict` or `predict_proba` method of your estimator, not a DataFrame. This means that your model must work with both data types. For this reason, we've provided a custom `ColumnSelectTransformer` for you to use instead `scikit-learn`'s own `ColumnTransformer`."
   ]
  },
  {
   "cell_type": "code",
   "execution_count": 26,
   "metadata": {},
   "outputs": [],
   "source": [
    "from sklearn.impute import SimpleImputer"
   ]
  },
  {
   "cell_type": "code",
   "execution_count": 27,
   "metadata": {},
   "outputs": [],
   "source": [
    "\n",
    "simple_cols = ['BEDCERT', 'RESTOT', 'INHOSP', 'CCRC_FACIL', 'SFF', 'CHOW_LAST_12MOS', 'SPRINKLER_STATUS', 'EXP_TOTAL', 'ADJ_TOTAL']\n",
    "\n",
    "# converts to dataframe and then selects the columns we want\n",
    "class ColumnSelectTransformer(BaseEstimator, TransformerMixin):\n",
    "    def __init__(self, columns):\n",
    "        self.columns = columns\n",
    "\n",
    "    def fit(self, X, y=None):\n",
    "        return self\n",
    "\n",
    "    def transform(self, X):\n",
    "        if not isinstance(X, pd.DataFrame):\n",
    "            X = pd.DataFrame(X)\n",
    "        return X[self.columns]\n",
    "        \n",
    "simple_features = Pipeline([\n",
    "    ('cst', ColumnSelectTransformer(simple_cols)),\n",
    "    ('impute', SimpleImputer())\n",
    "])"
   ]
  },
  {
   "cell_type": "markdown",
   "metadata": {},
   "source": [
    "**Note:** The assertion below assumes the output of `noncategorical_features.fit_transform` is a `ndarray`, not a `DataFrame`.)"
   ]
  },
  {
   "cell_type": "code",
   "execution_count": 28,
   "metadata": {},
   "outputs": [],
   "source": [
    "assert data['RESTOT'].isnull().sum() > 0\n",
    "assert not np.isnan(simple_features.fit_transform(data)).any() # SimpleImputer outputs nparray"
   ]
  },
  {
   "cell_type": "markdown",
   "metadata": {},
   "source": [
    "Now combine the `simple_features` pipeline with an estimator in a new pipeline. Fit `simple_features_model` to the data and submit `simple_features_model.predict_proba` to the grader. You may wish to use cross-validation to tune the hyperparameters of your model."
   ]
  },
  {
   "cell_type": "code",
   "execution_count": 29,
   "metadata": {},
   "outputs": [],
   "source": [
    "# need classification algorithm\n",
    "from sklearn.linear_model import LogisticRegression"
   ]
  },
  {
   "cell_type": "code",
   "execution_count": 30,
   "metadata": {},
   "outputs": [],
   "source": [
    "simple_features_model = Pipeline([\n",
    "    ('simple', simple_features),\n",
    "    # add your estimator here\n",
    "    ('est', LogisticRegression())\n",
    "])"
   ]
  },
  {
   "cell_type": "code",
   "execution_count": 31,
   "metadata": {},
   "outputs": [
    {
     "name": "stderr",
     "output_type": "stream",
     "text": [
      "/opt/conda/lib/python3.7/site-packages/sklearn/linear_model/logistic.py:432: FutureWarning: Default solver will be changed to 'lbfgs' in 0.22. Specify a solver to silence this warning.\n",
      "  FutureWarning)\n"
     ]
    },
    {
     "data": {
      "text/plain": [
       "Pipeline(memory=None,\n",
       "         steps=[('simple',\n",
       "                 Pipeline(memory=None,\n",
       "                          steps=[('cst',\n",
       "                                  ColumnSelectTransformer(columns=['BEDCERT',\n",
       "                                                                   'RESTOT',\n",
       "                                                                   'INHOSP',\n",
       "                                                                   'CCRC_FACIL',\n",
       "                                                                   'SFF',\n",
       "                                                                   'CHOW_LAST_12MOS',\n",
       "                                                                   'SPRINKLER_STATUS',\n",
       "                                                                   'EXP_TOTAL',\n",
       "                                                                   'ADJ_TOTAL'])),\n",
       "                                 ('impute',\n",
       "                                  SimpleImputer(add_indicator=False, copy=True,\n",
       "                                                fill_value=None,\n",
       "                                                missing_values=nan,\n",
       "                                                strategy='mean', verbose=0))],\n",
       "                          verbose=False)),\n",
       "                ('est',\n",
       "                 LogisticRegression(C=1.0, class_weight=None, dual=False,\n",
       "                                    fit_intercept=True, intercept_scaling=1,\n",
       "                                    l1_ratio=None, max_iter=100,\n",
       "                                    multi_class='warn', n_jobs=None,\n",
       "                                    penalty='l2', random_state=None,\n",
       "                                    solver='warn', tol=0.0001, verbose=0,\n",
       "                                    warm_start=False))],\n",
       "         verbose=False)"
      ]
     },
     "execution_count": 31,
     "metadata": {},
     "output_type": "execute_result"
    }
   ],
   "source": [
    "simple_features_model.fit(data, fine_counts > 0) # fine_counts > 0 is our label!"
   ]
  },
  {
   "cell_type": "code",
   "execution_count": 32,
   "metadata": {},
   "outputs": [
    {
     "data": {
      "text/plain": [
       "0.6939965447739707"
      ]
     },
     "execution_count": 32,
     "metadata": {},
     "output_type": "execute_result"
    }
   ],
   "source": [
    "simple_features_model.score(data, fine_counts > 0)  # accuracy of our classifier (c=0.5)"
   ]
  },
  {
   "cell_type": "code",
   "execution_count": 33,
   "metadata": {},
   "outputs": [
    {
     "data": {
      "text/plain": [
       "array([[0.80225756, 0.19774244],\n",
       "       [0.85556825, 0.14443175],\n",
       "       [0.69513108, 0.30486892],\n",
       "       [0.71375592, 0.28624408],\n",
       "       [0.68032557, 0.31967443]])"
      ]
     },
     "execution_count": 33,
     "metadata": {},
     "output_type": "execute_result"
    }
   ],
   "source": [
    "simple_features_model.predict_proba(data)[:5] # prob of classification!"
   ]
  },
  {
   "cell_type": "code",
   "execution_count": 34,
   "metadata": {},
   "outputs": [
    {
     "name": "stdout",
     "output_type": "stream",
     "text": [
      "==================\n",
      "Your score:  1.002750512350338\n",
      "==================\n"
     ]
    }
   ],
   "source": [
    "def positive_probability(model):\n",
    "    def predict_proba(X):\n",
    "        return model.predict_proba(X)[:, 1]\n",
    "    return predict_proba\n",
    "\n",
    "grader.score.ml__simple_features(positive_probability(simple_features_model))"
   ]
  },
  {
   "cell_type": "markdown",
   "metadata": {},
   "source": [
    "## Question 3: categorical_features"
   ]
  },
  {
   "cell_type": "markdown",
   "metadata": {},
   "source": [
    "The `'OWNERSHIP'` and `'CERTIFICATION'` columns contain categorical data. We will have to encode the categorical data into numerical features before we pass them to an estimator. Construct one or more pipelines for this purpose. Transformers such as [LabelEncoder](https://scikit-learn.org/0.19/modules/generated/sklearn.preprocessing.LabelEncoder.html#sklearn.preprocessing.LabelEncoder) and [OneHotEncoder](https://scikit-learn.org/0.19/modules/generated/sklearn.preprocessing.OneHotEncoder.html#sklearn.preprocessing.OneHotEncoder) may be useful, but you may also want to define your own transformers.\n",
    "\n",
    "If you used more than one `Pipeline`, combine them with a `FeatureUnion`. As in Question 2, we will combine this with an estimator, fit it, and submit the `predict_proba` method to the grader."
   ]
  },
  {
   "cell_type": "code",
   "execution_count": 35,
   "metadata": {},
   "outputs": [
    {
     "data": {
      "text/plain": [
       "array(['For profit - Corporation', 'Government - County',\n",
       "       'Non profit - Other', 'Non profit - Corporation',\n",
       "       'For profit - Individual', 'For profit - Partnership',\n",
       "       'Government - City', 'Non profit - Church related',\n",
       "       'Government - City/county', 'Government - Federal',\n",
       "       'For profit - Limited Liability company', 'Government - State',\n",
       "       'Government - Hospital district'], dtype=object)"
      ]
     },
     "execution_count": 35,
     "metadata": {},
     "output_type": "execute_result"
    }
   ],
   "source": [
    "data['OWNERSHIP'].unique()"
   ]
  },
  {
   "cell_type": "code",
   "execution_count": 36,
   "metadata": {},
   "outputs": [],
   "source": [
    "from sklearn.pipeline import FeatureUnion\n",
    "from sklearn.preprocessing import OneHotEncoder\n",
    "\n",
    "owner_onehot = Pipeline([\n",
    "    ('cst', ColumnSelectTransformer(['OWNERSHIP'])),\n",
    "    ('ohe', OneHotEncoder())\n",
    "])\n",
    "\n",
    "cert_onehot = Pipeline([\n",
    "    ('cst', ColumnSelectTransformer(['CERTIFICATION'])),\n",
    "    ('ohe', OneHotEncoder())\n",
    "])\n",
    "\n",
    "# could have used ColumnTransformer to specify these two columns together\n",
    "\n",
    "categorical_features = FeatureUnion([\n",
    "    ('owner', owner_onehot),\n",
    "    ('cert', cert_onehot)\n",
    "])"
   ]
  },
  {
   "cell_type": "code",
   "execution_count": 37,
   "metadata": {},
   "outputs": [
    {
     "data": {
      "text/plain": [
       "array([[1., 0., 0., 0., 0., 0., 0., 0., 0., 0., 0., 0., 0., 0., 0., 1.],\n",
       "       [0., 0., 0., 0., 0., 0., 1., 0., 0., 0., 0., 0., 0., 0., 0., 1.]])"
      ]
     },
     "execution_count": 37,
     "metadata": {},
     "output_type": "execute_result"
    }
   ],
   "source": [
    "categorical_features.fit_transform(data)[:2].toarray()"
   ]
  },
  {
   "cell_type": "code",
   "execution_count": 38,
   "metadata": {},
   "outputs": [],
   "source": [
    "assert categorical_features.fit_transform(data).shape[0] == data.shape[0]\n",
    "assert categorical_features.fit_transform(data).dtype == np.float64\n",
    "assert not np.isnan(categorical_features.fit_transform(data).toarray()).any()"
   ]
  },
  {
   "cell_type": "markdown",
   "metadata": {},
   "source": [
    "As in the previous question, create a model using the `categorical_features`, fit it to the data, and submit its `predict_proba` method to the grader."
   ]
  },
  {
   "cell_type": "code",
   "execution_count": 39,
   "metadata": {},
   "outputs": [],
   "source": [
    "from sklearn.ensemble import RandomForestClassifier\n",
    "from sklearn.model_selection import GridSearchCV\n",
    "\n",
    "categorical_features_model = Pipeline([\n",
    "    ('categorical', categorical_features),\n",
    "    # add your estimator here\n",
    "    ('estimator', RandomForestClassifier(random_state=42))\n",
    "     # or can use GridSearch but this gives worse score here...\n",
    "     #GridSearchCV(\n",
    "     #   RandomForestClassifier(), \n",
    "     #   param_grid = {'max_depth': range(10, 60, 10)}, cv=5, verbose=1))\n",
    "])"
   ]
  },
  {
   "cell_type": "code",
   "execution_count": 40,
   "metadata": {},
   "outputs": [
    {
     "name": "stderr",
     "output_type": "stream",
     "text": [
      "/opt/conda/lib/python3.7/site-packages/sklearn/ensemble/forest.py:245: FutureWarning: The default value of n_estimators will change from 10 in version 0.20 to 100 in 0.22.\n",
      "  \"10 in version 0.20 to 100 in 0.22.\", FutureWarning)\n"
     ]
    },
    {
     "data": {
      "text/plain": [
       "Pipeline(memory=None,\n",
       "         steps=[('categorical',\n",
       "                 FeatureUnion(n_jobs=None,\n",
       "                              transformer_list=[('owner',\n",
       "                                                 Pipeline(memory=None,\n",
       "                                                          steps=[('cst',\n",
       "                                                                  ColumnSelectTransformer(columns=['OWNERSHIP'])),\n",
       "                                                                 ('ohe',\n",
       "                                                                  OneHotEncoder(categorical_features=None,\n",
       "                                                                                categories=None,\n",
       "                                                                                drop=None,\n",
       "                                                                                dtype=<class 'numpy.float64'>,\n",
       "                                                                                handle_unknown='error',\n",
       "                                                                                n_values=None,\n",
       "                                                                                sparse=True))],\n",
       "                                                          verbose=False)),\n",
       "                                                ('...\n",
       "                 RandomForestClassifier(bootstrap=True, class_weight=None,\n",
       "                                        criterion='gini', max_depth=None,\n",
       "                                        max_features='auto',\n",
       "                                        max_leaf_nodes=None,\n",
       "                                        min_impurity_decrease=0.0,\n",
       "                                        min_impurity_split=None,\n",
       "                                        min_samples_leaf=1, min_samples_split=2,\n",
       "                                        min_weight_fraction_leaf=0.0,\n",
       "                                        n_estimators=10, n_jobs=None,\n",
       "                                        oob_score=False, random_state=42,\n",
       "                                        verbose=0, warm_start=False))],\n",
       "         verbose=False)"
      ]
     },
     "execution_count": 40,
     "metadata": {},
     "output_type": "execute_result"
    }
   ],
   "source": [
    "categorical_features_model.fit(data, fine_counts > 0)"
   ]
  },
  {
   "cell_type": "code",
   "execution_count": 41,
   "metadata": {},
   "outputs": [],
   "source": [
    "# look at optimal `max_depth` hyperparameter if using GridCV:\n",
    "\n",
    "#categorical_features_model.named_steps['estimator'].best_params_"
   ]
  },
  {
   "cell_type": "code",
   "execution_count": 42,
   "metadata": {},
   "outputs": [
    {
     "name": "stdout",
     "output_type": "stream",
     "text": [
      "==================\n",
      "Your score:  0.9812068143912321\n",
      "==================\n"
     ]
    }
   ],
   "source": [
    "grader.score.ml__categorical_features(positive_probability(categorical_features_model))"
   ]
  },
  {
   "cell_type": "markdown",
   "metadata": {},
   "source": [
    "## Question 4: business_model"
   ]
  },
  {
   "cell_type": "markdown",
   "metadata": {},
   "source": [
    "Finally, we'll combine `simple_features` and `categorical_features` in a `FeatureUnion`, followed by an estimator in a `Pipeline`. You may want to optimize the hyperparameters of your estimator using cross-validation or try engineering new features (e.g. see [PolynomialFeatures](https://scikit-learn.org/stable/modules/generated/sklearn.preprocessing.PolynomialFeatures.html)). When you've assembled and trained your model, pass the `predict_proba` method to the grader."
   ]
  },
  {
   "cell_type": "code",
   "execution_count": 43,
   "metadata": {},
   "outputs": [],
   "source": [
    "business_features = FeatureUnion([\n",
    "    ('simple', simple_features),\n",
    "    ('categorical', categorical_features)\n",
    "])"
   ]
  },
  {
   "cell_type": "markdown",
   "metadata": {},
   "source": [
    "In general, with $n$ features, we'd have $1+2n+\\frac{n(n-1)}{2}$ features in the new feature matrix (with the default settings in `PolynomalFeatures`)."
   ]
  },
  {
   "cell_type": "code",
   "execution_count": 44,
   "metadata": {},
   "outputs": [],
   "source": [
    "from sklearn.preprocessing import PolynomialFeatures\n",
    "from sklearn.decomposition import TruncatedSVD\n",
    "\n",
    "business_model = Pipeline([\n",
    "    ('features', business_features),\n",
    "    # add your estimator here\n",
    "    ('poly', PolynomialFeatures(degree=2)), # create new poly features\n",
    "    ('svd', TruncatedSVD(n_components=30)), # reduce dim back to 30 (PCA alternative)\n",
    "    ('estimator', LogisticRegression())\n",
    "])"
   ]
  },
  {
   "cell_type": "code",
   "execution_count": 45,
   "metadata": {},
   "outputs": [
    {
     "name": "stderr",
     "output_type": "stream",
     "text": [
      "/opt/conda/lib/python3.7/site-packages/sklearn/linear_model/logistic.py:432: FutureWarning: Default solver will be changed to 'lbfgs' in 0.22. Specify a solver to silence this warning.\n",
      "  FutureWarning)\n"
     ]
    },
    {
     "data": {
      "text/plain": [
       "Pipeline(memory=None,\n",
       "         steps=[('features',\n",
       "                 FeatureUnion(n_jobs=None,\n",
       "                              transformer_list=[('simple',\n",
       "                                                 Pipeline(memory=None,\n",
       "                                                          steps=[('cst',\n",
       "                                                                  ColumnSelectTransformer(columns=['BEDCERT',\n",
       "                                                                                                   'RESTOT',\n",
       "                                                                                                   'INHOSP',\n",
       "                                                                                                   'CCRC_FACIL',\n",
       "                                                                                                   'SFF',\n",
       "                                                                                                   'CHOW_LAST_12MOS',\n",
       "                                                                                                   'SPRINKLER_STATUS',\n",
       "                                                                                                   'EXP_TOTAL',\n",
       "                                                                                                   'ADJ_TOTAL'])),\n",
       "                                                                 ('impute',\n",
       "                                                                  SimpleImputer(add_indicator=False,\n",
       "                                                                                copy=True,\n",
       "                                                                                fill_value=None,\n",
       "                                                                                missing_...\n",
       "                 TruncatedSVD(algorithm='randomized', n_components=30, n_iter=5,\n",
       "                              random_state=None, tol=0.0)),\n",
       "                ('estimator',\n",
       "                 LogisticRegression(C=1.0, class_weight=None, dual=False,\n",
       "                                    fit_intercept=True, intercept_scaling=1,\n",
       "                                    l1_ratio=None, max_iter=100,\n",
       "                                    multi_class='warn', n_jobs=None,\n",
       "                                    penalty='l2', random_state=None,\n",
       "                                    solver='warn', tol=0.0001, verbose=0,\n",
       "                                    warm_start=False))],\n",
       "         verbose=False)"
      ]
     },
     "execution_count": 45,
     "metadata": {},
     "output_type": "execute_result"
    }
   ],
   "source": [
    "business_model.fit(data, fine_counts > 0)"
   ]
  },
  {
   "cell_type": "code",
   "execution_count": 46,
   "metadata": {},
   "outputs": [
    {
     "data": {
      "text/plain": [
       "array([9.12524525e-01, 8.61830020e-02, 1.21773328e-03, 5.57836243e-05,\n",
       "       6.36927534e-06, 3.42925958e-06, 1.72968594e-06, 1.66021214e-06,\n",
       "       9.13666437e-07, 8.82922852e-07, 6.46486577e-07, 5.58422744e-07,\n",
       "       4.47920592e-07, 4.03815175e-07, 3.22942317e-07, 2.73621364e-07,\n",
       "       2.35252872e-07, 1.74717046e-07, 1.57560676e-07, 1.29537327e-07,\n",
       "       1.23503678e-07, 9.01382555e-08, 8.50076512e-08, 5.71031036e-08,\n",
       "       5.97985784e-08, 4.52006357e-08, 3.68239963e-08, 1.92901424e-08,\n",
       "       1.62372256e-08, 1.30374224e-08])"
      ]
     },
     "execution_count": 46,
     "metadata": {},
     "output_type": "execute_result"
    }
   ],
   "source": [
    "# percentage of variance explained by each of the 30 features\n",
    "business_model.named_steps['svd'].explained_variance_ratio_"
   ]
  },
  {
   "cell_type": "code",
   "execution_count": 47,
   "metadata": {},
   "outputs": [
    {
     "data": {
      "text/plain": [
       "array([0.91252453, 0.99870753, 0.99992526, 0.99998104, 0.99998741,\n",
       "       0.99999084, 0.99999257, 0.99999423, 0.99999515, 0.99999603,\n",
       "       0.99999668, 0.99999723, 0.99999768, 0.99999809, 0.99999841,\n",
       "       0.99999868, 0.99999892, 0.99999909, 0.99999925, 0.99999938,\n",
       "       0.9999995 , 0.99999959, 0.99999968, 0.99999974, 0.99999979,\n",
       "       0.99999984, 0.99999988, 0.9999999 , 0.99999991, 0.99999993])"
      ]
     },
     "execution_count": 47,
     "metadata": {},
     "output_type": "execute_result"
    }
   ],
   "source": [
    "business_model.named_steps['svd'].explained_variance_ratio_.cumsum()\n",
    "# only need first 3 features to explain 99.99% of variance!"
   ]
  },
  {
   "cell_type": "code",
   "execution_count": 48,
   "metadata": {},
   "outputs": [
    {
     "name": "stdout",
     "output_type": "stream",
     "text": [
      "==================\n",
      "Error!\n",
      "You have been rate limited for exceeding the limit of 3 per 1 minute.\n",
      "Please slow down your submission rate.\n",
      "==================\n"
     ]
    }
   ],
   "source": [
    "grader.score.ml__business_model(positive_probability(business_model))"
   ]
  },
  {
   "cell_type": "markdown",
   "metadata": {},
   "source": [
    "## Question 5: survey_results"
   ]
  },
  {
   "cell_type": "markdown",
   "metadata": {},
   "source": [
    "Surveys reveal safety and health deficiencies at nursing homes that may indicate risk for incidents (and penalties). CMS routinely makes surveys of nursing homes. Build a model that combines the `business_features` of each facility with its cycle 1 survey results, as well as the time between the cycle 1 and cycle 2 survey to **predict the cycle 2 total score.** Already popped out these labels from OG dataset.\n",
    "\n",
    "First, let's create a transformer to calculate the difference in time between the cycle 1 and cycle 2 surveys."
   ]
  },
  {
   "cell_type": "code",
   "execution_count": 49,
   "metadata": {},
   "outputs": [
    {
     "data": {
      "text/html": [
       "<div>\n",
       "<style scoped>\n",
       "    .dataframe tbody tr th:only-of-type {\n",
       "        vertical-align: middle;\n",
       "    }\n",
       "\n",
       "    .dataframe tbody tr th {\n",
       "        vertical-align: top;\n",
       "    }\n",
       "\n",
       "    .dataframe thead th {\n",
       "        text-align: right;\n",
       "    }\n",
       "</style>\n",
       "<table border=\"1\" class=\"dataframe\">\n",
       "  <thead>\n",
       "    <tr style=\"text-align: right;\">\n",
       "      <th></th>\n",
       "      <th>PROVNUM</th>\n",
       "      <th>PROVNAME</th>\n",
       "      <th>ADDRESS</th>\n",
       "      <th>CITY</th>\n",
       "      <th>STATE</th>\n",
       "      <th>ZIP</th>\n",
       "      <th>PHONE</th>\n",
       "      <th>COUNTY_SSA</th>\n",
       "      <th>COUNTY_NAME</th>\n",
       "      <th>BEDCERT</th>\n",
       "      <th>...</th>\n",
       "      <th>CERTIFICATION</th>\n",
       "      <th>CYCLE_1_DEFS</th>\n",
       "      <th>CYCLE_1_NFROMDEFS</th>\n",
       "      <th>CYCLE_1_NFROMCOMP</th>\n",
       "      <th>CYCLE_1_DEFS_SCORE</th>\n",
       "      <th>CYCLE_1_NUMREVIS</th>\n",
       "      <th>CYCLE_1_REVISIT_SCORE</th>\n",
       "      <th>CYCLE_1_TOTAL_SCORE</th>\n",
       "      <th>CYCLE_1_SURVEY_DATE</th>\n",
       "      <th>CYCLE_2_SURVEY_DATE</th>\n",
       "    </tr>\n",
       "  </thead>\n",
       "  <tbody>\n",
       "    <tr>\n",
       "      <th>0</th>\n",
       "      <td>015010</td>\n",
       "      <td>COOSA VALLEY NURSING FACILITY</td>\n",
       "      <td>315 WEST HICKORY STREET</td>\n",
       "      <td>SYLACAUGA</td>\n",
       "      <td>AL</td>\n",
       "      <td>35150</td>\n",
       "      <td>2562495604</td>\n",
       "      <td>600</td>\n",
       "      <td>Talladega</td>\n",
       "      <td>85</td>\n",
       "      <td>...</td>\n",
       "      <td>Medicare and Medicaid</td>\n",
       "      <td>7</td>\n",
       "      <td>7</td>\n",
       "      <td>0</td>\n",
       "      <td>36</td>\n",
       "      <td>1</td>\n",
       "      <td>0</td>\n",
       "      <td>36</td>\n",
       "      <td>2017-04-06</td>\n",
       "      <td>2016-05-26</td>\n",
       "    </tr>\n",
       "    <tr>\n",
       "      <th>1</th>\n",
       "      <td>015012</td>\n",
       "      <td>HIGHLANDS HEALTH AND REHAB</td>\n",
       "      <td>380 WOODS COVE ROAD</td>\n",
       "      <td>SCOTTSBORO</td>\n",
       "      <td>AL</td>\n",
       "      <td>35768</td>\n",
       "      <td>2562183708</td>\n",
       "      <td>350</td>\n",
       "      <td>Jackson</td>\n",
       "      <td>50</td>\n",
       "      <td>...</td>\n",
       "      <td>Medicare and Medicaid</td>\n",
       "      <td>5</td>\n",
       "      <td>5</td>\n",
       "      <td>0</td>\n",
       "      <td>44</td>\n",
       "      <td>1</td>\n",
       "      <td>0</td>\n",
       "      <td>44</td>\n",
       "      <td>2017-03-16</td>\n",
       "      <td>2016-02-04</td>\n",
       "    </tr>\n",
       "    <tr>\n",
       "      <th>2</th>\n",
       "      <td>015014</td>\n",
       "      <td>EASTVIEW REHABILITATION &amp; HEALTHCARE CENTER</td>\n",
       "      <td>7755 FOURTH AVENUE SOUTH</td>\n",
       "      <td>BIRMINGHAM</td>\n",
       "      <td>AL</td>\n",
       "      <td>35206</td>\n",
       "      <td>2058330146</td>\n",
       "      <td>360</td>\n",
       "      <td>Jefferson</td>\n",
       "      <td>92</td>\n",
       "      <td>...</td>\n",
       "      <td>Medicare and Medicaid</td>\n",
       "      <td>6</td>\n",
       "      <td>6</td>\n",
       "      <td>0</td>\n",
       "      <td>40</td>\n",
       "      <td>1</td>\n",
       "      <td>0</td>\n",
       "      <td>40</td>\n",
       "      <td>2016-10-20</td>\n",
       "      <td>2015-12-30</td>\n",
       "    </tr>\n",
       "    <tr>\n",
       "      <th>3</th>\n",
       "      <td>015015</td>\n",
       "      <td>PLANTATION MANOR NURSING HOME</td>\n",
       "      <td>6450 OLD TUSCALOOSA HIGHWAY   P O BOX 97</td>\n",
       "      <td>MC CALLA</td>\n",
       "      <td>AL</td>\n",
       "      <td>35111</td>\n",
       "      <td>2054776161</td>\n",
       "      <td>360</td>\n",
       "      <td>Jefferson</td>\n",
       "      <td>103</td>\n",
       "      <td>...</td>\n",
       "      <td>Medicare and Medicaid</td>\n",
       "      <td>2</td>\n",
       "      <td>2</td>\n",
       "      <td>0</td>\n",
       "      <td>16</td>\n",
       "      <td>1</td>\n",
       "      <td>0</td>\n",
       "      <td>16</td>\n",
       "      <td>2017-03-09</td>\n",
       "      <td>2016-02-11</td>\n",
       "    </tr>\n",
       "    <tr>\n",
       "      <th>4</th>\n",
       "      <td>015016</td>\n",
       "      <td>ATHENS HEALTH AND REHABILITATION LLC</td>\n",
       "      <td>611 WEST MARKET STREET</td>\n",
       "      <td>ATHENS</td>\n",
       "      <td>AL</td>\n",
       "      <td>35611</td>\n",
       "      <td>2562321620</td>\n",
       "      <td>410</td>\n",
       "      <td>Limestone</td>\n",
       "      <td>149</td>\n",
       "      <td>...</td>\n",
       "      <td>Medicare and Medicaid</td>\n",
       "      <td>2</td>\n",
       "      <td>2</td>\n",
       "      <td>0</td>\n",
       "      <td>20</td>\n",
       "      <td>1</td>\n",
       "      <td>0</td>\n",
       "      <td>20</td>\n",
       "      <td>2017-06-01</td>\n",
       "      <td>2016-05-12</td>\n",
       "    </tr>\n",
       "  </tbody>\n",
       "</table>\n",
       "<p>5 rows × 29 columns</p>\n",
       "</div>"
      ],
      "text/plain": [
       "  PROVNUM                                     PROVNAME  \\\n",
       "0  015010                COOSA VALLEY NURSING FACILITY   \n",
       "1  015012                   HIGHLANDS HEALTH AND REHAB   \n",
       "2  015014  EASTVIEW REHABILITATION & HEALTHCARE CENTER   \n",
       "3  015015                PLANTATION MANOR NURSING HOME   \n",
       "4  015016         ATHENS HEALTH AND REHABILITATION LLC   \n",
       "\n",
       "                                    ADDRESS        CITY STATE    ZIP  \\\n",
       "0                   315 WEST HICKORY STREET   SYLACAUGA    AL  35150   \n",
       "1                       380 WOODS COVE ROAD  SCOTTSBORO    AL  35768   \n",
       "2                  7755 FOURTH AVENUE SOUTH  BIRMINGHAM    AL  35206   \n",
       "3  6450 OLD TUSCALOOSA HIGHWAY   P O BOX 97    MC CALLA    AL  35111   \n",
       "4                    611 WEST MARKET STREET      ATHENS    AL  35611   \n",
       "\n",
       "        PHONE  COUNTY_SSA COUNTY_NAME  BEDCERT  ...          CERTIFICATION  \\\n",
       "0  2562495604         600   Talladega       85  ...  Medicare and Medicaid   \n",
       "1  2562183708         350     Jackson       50  ...  Medicare and Medicaid   \n",
       "2  2058330146         360   Jefferson       92  ...  Medicare and Medicaid   \n",
       "3  2054776161         360   Jefferson      103  ...  Medicare and Medicaid   \n",
       "4  2562321620         410   Limestone      149  ...  Medicare and Medicaid   \n",
       "\n",
       "   CYCLE_1_DEFS  CYCLE_1_NFROMDEFS  CYCLE_1_NFROMCOMP  CYCLE_1_DEFS_SCORE  \\\n",
       "0             7                  7                  0                  36   \n",
       "1             5                  5                  0                  44   \n",
       "2             6                  6                  0                  40   \n",
       "3             2                  2                  0                  16   \n",
       "4             2                  2                  0                  20   \n",
       "\n",
       "   CYCLE_1_NUMREVIS  CYCLE_1_REVISIT_SCORE  CYCLE_1_TOTAL_SCORE  \\\n",
       "0                 1                      0                   36   \n",
       "1                 1                      0                   44   \n",
       "2                 1                      0                   40   \n",
       "3                 1                      0                   16   \n",
       "4                 1                      0                   20   \n",
       "\n",
       "  CYCLE_1_SURVEY_DATE CYCLE_2_SURVEY_DATE  \n",
       "0          2017-04-06          2016-05-26  \n",
       "1          2017-03-16          2016-02-04  \n",
       "2          2016-10-20          2015-12-30  \n",
       "3          2017-03-09          2016-02-11  \n",
       "4          2017-06-01          2016-05-12  \n",
       "\n",
       "[5 rows x 29 columns]"
      ]
     },
     "execution_count": 49,
     "metadata": {},
     "output_type": "execute_result"
    }
   ],
   "source": [
    "data.head()"
   ]
  },
  {
   "cell_type": "code",
   "execution_count": 52,
   "metadata": {
    "scrolled": true
   },
   "outputs": [
    {
     "data": {
      "text/plain": [
       "0    2017-04-06\n",
       "1    2017-03-16\n",
       "2    2016-10-20\n",
       "3    2017-03-09\n",
       "4    2017-06-01\n",
       "Name: CYCLE_1_SURVEY_DATE, dtype: object"
      ]
     },
     "execution_count": 52,
     "metadata": {},
     "output_type": "execute_result"
    }
   ],
   "source": [
    "data['CYCLE_1_SURVEY_DATE'].head()"
   ]
  },
  {
   "cell_type": "code",
   "execution_count": 55,
   "metadata": {},
   "outputs": [
    {
     "data": {
      "text/plain": [
       "array([2.72160e+16, 3.50784e+16, 2.54880e+16, ..., 2.48832e+16,\n",
       "       2.85984e+16, 8.46720e+15])"
      ]
     },
     "execution_count": 55,
     "metadata": {},
     "output_type": "execute_result"
    }
   ],
   "source": [
    "# convert to datetime data type, as pd can do calcs in this form!\n",
    "pd.to_datetime(data['CYCLE_1_SURVEY_DATE'].head())\n",
    "\n",
    "# values converts to nanoseconds; then convert to float number\n",
    "(pd.to_datetime(data['CYCLE_1_SURVEY_DATE']) - pd.to_datetime(data['CYCLE_2_SURVEY_DATE'])).values.astype(float)"
   ]
  },
  {
   "cell_type": "code",
   "execution_count": 60,
   "metadata": {},
   "outputs": [],
   "source": [
    "class TimedeltaTransformer(BaseEstimator, TransformerMixin):\n",
    "    def __init__(self, t1_col, t2_col):\n",
    "        self.t1_col = t1_col\n",
    "        self.t2_col = t2_col\n",
    "\n",
    "    def fit(self, X, y=None):\n",
    "        return self\n",
    "\n",
    "    def transform(self, X):\n",
    "        if not isinstance(X, pd.DataFrame):\n",
    "            X = pd.DataFrame(X)\n",
    "        diff = (pd.to_datetime(X[self.t2_col]) - pd.to_datetime(X[self.t1_col])).values.astype(float).reshape(-1,1)\n",
    "        return diff\n",
    "    "
   ]
  },
  {
   "cell_type": "code",
   "execution_count": 61,
   "metadata": {},
   "outputs": [],
   "source": [
    "cycle_1_date = 'CYCLE_1_SURVEY_DATE'\n",
    "cycle_2_date = 'CYCLE_2_SURVEY_DATE'\n",
    "time_feature = TimedeltaTransformer(cycle_1_date, cycle_2_date)"
   ]
  },
  {
   "cell_type": "code",
   "execution_count": 62,
   "metadata": {},
   "outputs": [
    {
     "data": {
      "text/plain": [
       "array([[-2.72160e+16],\n",
       "       [-3.50784e+16],\n",
       "       [-2.54880e+16],\n",
       "       [-3.38688e+16],\n",
       "       [-3.32640e+16]])"
      ]
     },
     "execution_count": 62,
     "metadata": {},
     "output_type": "execute_result"
    }
   ],
   "source": [
    "time_feature.fit_transform(data)[:5]"
   ]
  },
  {
   "cell_type": "markdown",
   "metadata": {},
   "source": [
    "In the cell below we'll collect the cycle 1 survey features."
   ]
  },
  {
   "cell_type": "code",
   "execution_count": 63,
   "metadata": {},
   "outputs": [],
   "source": [
    "cycle_1_cols = ['CYCLE_1_DEFS', 'CYCLE_1_NFROMDEFS', 'CYCLE_1_NFROMCOMP',\n",
    "                'CYCLE_1_DEFS_SCORE', 'CYCLE_1_NUMREVIS',\n",
    "                'CYCLE_1_REVISIT_SCORE', 'CYCLE_1_TOTAL_SCORE']\n",
    "cycle_1_features = ColumnSelectTransformer(cycle_1_cols)"
   ]
  },
  {
   "cell_type": "code",
   "execution_count": 82,
   "metadata": {},
   "outputs": [],
   "source": [
    "from sklearn.ensemble import RandomForestRegressor\n",
    "\n",
    "survey_model = Pipeline([\n",
    "    ('features', FeatureUnion([\n",
    "        ('business', business_features),\n",
    "        ('survey', cycle_1_features),\n",
    "        ('time', time_feature)\n",
    "    ])),\n",
    "    # add PolynomialFeatures?? add TruncatedSVD?\n",
    "    ('poly', PolynomialFeatures(degree=2)),\n",
    "    ('svd', TruncatedSVD(n_components=30)),\n",
    "    \n",
    "    # add your estimator here\n",
    "    ('rfr', GridSearchCV(\n",
    "        RandomForestRegressor(n_estimators=200, n_jobs=2, random_state=0),\n",
    "        param_grid = {'min_samples_leaf': range(20, 35, 5)},\n",
    "        cv=5, verbose=2))\n",
    "])\n",
    "\n",
    "# 8.5 mins without middle section\n",
    "# 12.2 mins with (better!)"
   ]
  },
  {
   "cell_type": "code",
   "execution_count": 83,
   "metadata": {},
   "outputs": [
    {
     "name": "stdout",
     "output_type": "stream",
     "text": [
      "Fitting 5 folds for each of 3 candidates, totalling 15 fits\n",
      "[CV] min_samples_leaf=20 .............................................\n"
     ]
    },
    {
     "name": "stderr",
     "output_type": "stream",
     "text": [
      "[Parallel(n_jobs=1)]: Using backend SequentialBackend with 1 concurrent workers.\n"
     ]
    },
    {
     "name": "stdout",
     "output_type": "stream",
     "text": [
      "[CV] .............................. min_samples_leaf=20, total=  53.7s\n",
      "[CV] min_samples_leaf=20 .............................................\n"
     ]
    },
    {
     "name": "stderr",
     "output_type": "stream",
     "text": [
      "[Parallel(n_jobs=1)]: Done   1 out of   1 | elapsed:   53.7s remaining:    0.0s\n"
     ]
    },
    {
     "name": "stdout",
     "output_type": "stream",
     "text": [
      "[CV] .............................. min_samples_leaf=20, total=  52.3s\n",
      "[CV] min_samples_leaf=20 .............................................\n",
      "[CV] .............................. min_samples_leaf=20, total=  51.9s\n",
      "[CV] min_samples_leaf=20 .............................................\n",
      "[CV] .............................. min_samples_leaf=20, total=  51.4s\n",
      "[CV] min_samples_leaf=20 .............................................\n",
      "[CV] .............................. min_samples_leaf=20, total=  51.6s\n",
      "[CV] min_samples_leaf=25 .............................................\n",
      "[CV] .............................. min_samples_leaf=25, total=  48.7s\n",
      "[CV] min_samples_leaf=25 .............................................\n",
      "[CV] .............................. min_samples_leaf=25, total=  48.2s\n",
      "[CV] min_samples_leaf=25 .............................................\n",
      "[CV] .............................. min_samples_leaf=25, total=  49.1s\n",
      "[CV] min_samples_leaf=25 .............................................\n",
      "[CV] .............................. min_samples_leaf=25, total=  47.3s\n",
      "[CV] min_samples_leaf=25 .............................................\n",
      "[CV] .............................. min_samples_leaf=25, total=  49.3s\n",
      "[CV] min_samples_leaf=30 .............................................\n",
      "[CV] .............................. min_samples_leaf=30, total=  46.3s\n",
      "[CV] min_samples_leaf=30 .............................................\n",
      "[CV] .............................. min_samples_leaf=30, total=  45.8s\n",
      "[CV] min_samples_leaf=30 .............................................\n",
      "[CV] .............................. min_samples_leaf=30, total=  46.9s\n",
      "[CV] min_samples_leaf=30 .............................................\n",
      "[CV] .............................. min_samples_leaf=30, total=  45.1s\n",
      "[CV] min_samples_leaf=30 .............................................\n",
      "[CV] .............................. min_samples_leaf=30, total=  46.5s\n"
     ]
    },
    {
     "name": "stderr",
     "output_type": "stream",
     "text": [
      "[Parallel(n_jobs=1)]: Done  15 out of  15 | elapsed: 12.2min finished\n"
     ]
    },
    {
     "data": {
      "text/plain": [
       "Pipeline(memory=None,\n",
       "         steps=[('features',\n",
       "                 FeatureUnion(n_jobs=None,\n",
       "                              transformer_list=[('business',\n",
       "                                                 FeatureUnion(n_jobs=None,\n",
       "                                                              transformer_list=[('simple',\n",
       "                                                                                 Pipeline(memory=None,\n",
       "                                                                                          steps=[('cst',\n",
       "                                                                                                  ColumnSelectTransformer(columns=['BEDCERT',\n",
       "                                                                                                                                   'RESTOT',\n",
       "                                                                                                                                   'INHOSP',\n",
       "                                                                                                                                   'CCRC_FACIL',\n",
       "                                                                                                                                   'SFF',\n",
       "                                                                                                                                   'CHOW_LAST_12MOS',\n",
       "                                                                                                                                   'SPRINKLER_STATUS',\n",
       "                                                                                                                                   'EXP_TOTAL',\n",
       "                                                                                                                                   'ADJ_TOTAL'])),\n",
       "                                                                                                 ('impute',\n",
       "                                                                                                  SimpleImputer...\n",
       "                                                              min_impurity_decrease=0.0,\n",
       "                                                              min_impurity_split=None,\n",
       "                                                              min_samples_leaf=1,\n",
       "                                                              min_samples_split=2,\n",
       "                                                              min_weight_fraction_leaf=0.0,\n",
       "                                                              n_estimators=200,\n",
       "                                                              n_jobs=2,\n",
       "                                                              oob_score=False,\n",
       "                                                              random_state=0,\n",
       "                                                              verbose=0,\n",
       "                                                              warm_start=False),\n",
       "                              iid='warn', n_jobs=None,\n",
       "                              param_grid={'min_samples_leaf': range(20, 35, 5)},\n",
       "                              pre_dispatch='2*n_jobs', refit=True,\n",
       "                              return_train_score=False, scoring=None,\n",
       "                              verbose=2))],\n",
       "         verbose=False)"
      ]
     },
     "execution_count": 83,
     "metadata": {},
     "output_type": "execute_result"
    }
   ],
   "source": [
    "survey_model.fit(data, cycle_2_score.astype(int))"
   ]
  },
  {
   "cell_type": "code",
   "execution_count": 84,
   "metadata": {},
   "outputs": [
    {
     "data": {
      "text/plain": [
       "0.12399951409068456"
      ]
     },
     "execution_count": 84,
     "metadata": {},
     "output_type": "execute_result"
    }
   ],
   "source": [
    "survey_model.score(data, cycle_2_score) # R^2 score - low as not overfit to training data, but generalises well!"
   ]
  },
  {
   "cell_type": "code",
   "execution_count": 85,
   "metadata": {},
   "outputs": [
    {
     "data": {
      "text/plain": [
       "array([53.57452872, 48.07313383, 56.96184166, 43.08228783, 45.40424706])"
      ]
     },
     "execution_count": 85,
     "metadata": {},
     "output_type": "execute_result"
    }
   ],
   "source": [
    "survey_model.predict(data)[:5] # predict on training set"
   ]
  },
  {
   "cell_type": "code",
   "execution_count": 86,
   "metadata": {},
   "outputs": [
    {
     "name": "stdout",
     "output_type": "stream",
     "text": [
      "==================\n",
      "Your score:  1.104289262709242\n",
      "==================\n"
     ]
    }
   ],
   "source": [
    "grader.score.ml__survey_model(survey_model.predict)"
   ]
  },
  {
   "cell_type": "markdown",
   "metadata": {},
   "source": [
    "- Truncated SVD for sparse matrices\n",
    "- PCA for dense matrices (due to calculations)"
   ]
  }
 ],
 "metadata": {
  "kernelspec": {
   "display_name": "Python 3",
   "language": "python",
   "name": "python3"
  },
  "language_info": {
   "codemirror_mode": {
    "name": "ipython",
    "version": 3
   },
   "file_extension": ".py",
   "mimetype": "text/x-python",
   "name": "python",
   "nbconvert_exporter": "python",
   "pygments_lexer": "ipython3",
   "version": "3.7.3"
  },
  "nbclean": true
 },
 "nbformat": 4,
 "nbformat_minor": 1
}
