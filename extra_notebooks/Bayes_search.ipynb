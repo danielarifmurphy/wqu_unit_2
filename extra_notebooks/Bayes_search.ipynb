{
 "cells": [
  {
   "cell_type": "code",
   "execution_count": 1,
   "metadata": {},
   "outputs": [
    {
     "name": "stdout",
     "output_type": "stream",
     "text": [
      "\n",
      "The following command must be run outside of the IPython shell:\n",
      "\n",
      "    $ pip install scikit-optimize # terminal command\n",
      "\n",
      "The Python package manager (pip) can only be used from outside of IPython.\n",
      "Please reissue the `pip` command in a separate terminal or command prompt.\n",
      "\n",
      "See the Python documentation for more information on how to install packages:\n",
      "\n",
      "    https://docs.python.org/3/installing/\n"
     ]
    }
   ],
   "source": [
    "pip install scikit-optimize # terminal command; have to restart kernel after installation!"
   ]
  },
  {
   "cell_type": "code",
   "execution_count": 6,
   "metadata": {},
   "outputs": [],
   "source": [
    "import numpy as np\n",
    "from skopt import gp_minimize"
   ]
  },
  {
   "cell_type": "code",
   "execution_count": 7,
   "metadata": {},
   "outputs": [],
   "source": [
    "from sklearn.datasets import fetch_california_housing\n",
    "from sklearn.ensemble import GradientBoostingRegressor\n",
    "from sklearn.model_selection import train_test_split"
   ]
  },
  {
   "cell_type": "code",
   "execution_count": 8,
   "metadata": {},
   "outputs": [],
   "source": [
    "from skopt import BayesSearchCV\n",
    "# updates beliefs about where is best to 'randomly' search in grid-space!!\n",
    "from skopt.space import Integer, Real"
   ]
  },
  {
   "cell_type": "code",
   "execution_count": 10,
   "metadata": {},
   "outputs": [],
   "source": [
    "data = fetch_california_housing()\n",
    "X = data['data']\n",
    "y = data['target']\n",
    "        \n",
    "X_train, X_test, y_train, y_test = train_test_split(X, y, test_size=0.2, random_state=0)"
   ]
  },
  {
   "cell_type": "code",
   "execution_count": 12,
   "metadata": {},
   "outputs": [],
   "source": [
    "gbr = GradientBoostingRegressor()\n",
    "search_space = {'n_estimators': Integer(50, 500), \n",
    "               'learning_rate': Real(1E-3, 1, prior='uniform'),\n",
    "               'subsample': Real(1E-3, 1, prior='uniform'),\n",
    "               'max_depth': Integer(1, 100),\n",
    "               'min_samples_leaf': Integer(1, 100)}\n",
    "\n",
    "bayes_search = BayesSearchCV(gbr, search_space, cv=3 , n_jobs=-1, verbose=1, n_iter=10, random_state=0)\n",
    "# similar syntax!"
   ]
  },
  {
   "cell_type": "code",
   "execution_count": 13,
   "metadata": {},
   "outputs": [
    {
     "name": "stdout",
     "output_type": "stream",
     "text": [
      "Fitting 3 folds for each of 1 candidates, totalling 3 fits\n"
     ]
    },
    {
     "name": "stderr",
     "output_type": "stream",
     "text": [
      "[Parallel(n_jobs=-1)]: Using backend SequentialBackend with 1 concurrent workers.\n",
      "[Parallel(n_jobs=-1)]: Done   3 out of   3 | elapsed:  1.1min finished\n",
      "[Parallel(n_jobs=-1)]: Using backend SequentialBackend with 1 concurrent workers.\n"
     ]
    },
    {
     "name": "stdout",
     "output_type": "stream",
     "text": [
      "Fitting 3 folds for each of 1 candidates, totalling 3 fits\n"
     ]
    },
    {
     "name": "stderr",
     "output_type": "stream",
     "text": [
      "[Parallel(n_jobs=-1)]: Done   3 out of   3 | elapsed:    9.5s finished\n",
      "[Parallel(n_jobs=-1)]: Using backend SequentialBackend with 1 concurrent workers.\n"
     ]
    },
    {
     "name": "stdout",
     "output_type": "stream",
     "text": [
      "Fitting 3 folds for each of 1 candidates, totalling 3 fits\n"
     ]
    },
    {
     "name": "stderr",
     "output_type": "stream",
     "text": [
      "[Parallel(n_jobs=-1)]: Done   3 out of   3 | elapsed:    3.6s finished\n",
      "[Parallel(n_jobs=-1)]: Using backend SequentialBackend with 1 concurrent workers.\n"
     ]
    },
    {
     "name": "stdout",
     "output_type": "stream",
     "text": [
      "Fitting 3 folds for each of 1 candidates, totalling 3 fits\n"
     ]
    },
    {
     "name": "stderr",
     "output_type": "stream",
     "text": [
      "[Parallel(n_jobs=-1)]: Done   3 out of   3 | elapsed:   50.1s finished\n",
      "[Parallel(n_jobs=-1)]: Using backend SequentialBackend with 1 concurrent workers.\n"
     ]
    },
    {
     "name": "stdout",
     "output_type": "stream",
     "text": [
      "Fitting 3 folds for each of 1 candidates, totalling 3 fits\n"
     ]
    },
    {
     "name": "stderr",
     "output_type": "stream",
     "text": [
      "[Parallel(n_jobs=-1)]: Done   3 out of   3 | elapsed:    3.9s finished\n",
      "[Parallel(n_jobs=-1)]: Using backend SequentialBackend with 1 concurrent workers.\n"
     ]
    },
    {
     "name": "stdout",
     "output_type": "stream",
     "text": [
      "Fitting 3 folds for each of 1 candidates, totalling 3 fits\n"
     ]
    },
    {
     "name": "stderr",
     "output_type": "stream",
     "text": [
      "[Parallel(n_jobs=-1)]: Done   3 out of   3 | elapsed:   10.9s finished\n",
      "[Parallel(n_jobs=-1)]: Using backend SequentialBackend with 1 concurrent workers.\n"
     ]
    },
    {
     "name": "stdout",
     "output_type": "stream",
     "text": [
      "Fitting 3 folds for each of 1 candidates, totalling 3 fits\n"
     ]
    },
    {
     "name": "stderr",
     "output_type": "stream",
     "text": [
      "[Parallel(n_jobs=-1)]: Done   3 out of   3 | elapsed:    4.8s finished\n",
      "[Parallel(n_jobs=-1)]: Using backend SequentialBackend with 1 concurrent workers.\n"
     ]
    },
    {
     "name": "stdout",
     "output_type": "stream",
     "text": [
      "Fitting 3 folds for each of 1 candidates, totalling 3 fits\n"
     ]
    },
    {
     "name": "stderr",
     "output_type": "stream",
     "text": [
      "[Parallel(n_jobs=-1)]: Done   3 out of   3 | elapsed:    0.5s finished\n",
      "[Parallel(n_jobs=-1)]: Using backend SequentialBackend with 1 concurrent workers.\n"
     ]
    },
    {
     "name": "stdout",
     "output_type": "stream",
     "text": [
      "Fitting 3 folds for each of 1 candidates, totalling 3 fits\n"
     ]
    },
    {
     "name": "stderr",
     "output_type": "stream",
     "text": [
      "[Parallel(n_jobs=-1)]: Done   3 out of   3 | elapsed:   29.6s finished\n"
     ]
    },
    {
     "name": "stdout",
     "output_type": "stream",
     "text": [
      "Fitting 3 folds for each of 1 candidates, totalling 3 fits\n"
     ]
    },
    {
     "name": "stderr",
     "output_type": "stream",
     "text": [
      "[Parallel(n_jobs=-1)]: Using backend SequentialBackend with 1 concurrent workers.\n",
      "[Parallel(n_jobs=-1)]: Done   3 out of   3 | elapsed:    5.8s finished\n"
     ]
    },
    {
     "data": {
      "text/plain": [
       "BayesSearchCV(cv=3, error_score='raise',\n",
       "              estimator=GradientBoostingRegressor(alpha=0.9,\n",
       "                                                  criterion='friedman_mse',\n",
       "                                                  init=None, learning_rate=0.1,\n",
       "                                                  loss='ls', max_depth=3,\n",
       "                                                  max_features=None,\n",
       "                                                  max_leaf_nodes=None,\n",
       "                                                  min_impurity_decrease=0.0,\n",
       "                                                  min_impurity_split=None,\n",
       "                                                  min_samples_leaf=1,\n",
       "                                                  min_samples_split=2,\n",
       "                                                  min_weight_fraction_leaf=0.0,\n",
       "                                                  n_estimators=100,\n",
       "                                                  n_iter_no_change=...\n",
       "              search_spaces={'learning_rate': Real(low=0.001, high=1, prior='uniform', transform='identity'),\n",
       "                             'max_depth': Integer(low=1, high=100, prior='uniform', transform='identity'),\n",
       "                             'min_samples_leaf': Integer(low=1, high=100, prior='uniform', transform='identity'),\n",
       "                             'n_estimators': Integer(low=50, high=500, prior='uniform', transform='identity'),\n",
       "                             'subsample': Real(low=0.001, high=1, prior='uniform', transform='identity')},\n",
       "              verbose=1)"
      ]
     },
     "execution_count": 13,
     "metadata": {},
     "output_type": "execute_result"
    }
   ],
   "source": [
    "bayes_search.fit(X_train, y_train)\n",
    "# should be slower at the start due to uniform prior, until influenced more by the 'data'\n",
    "# 3 mins"
   ]
  },
  {
   "cell_type": "code",
   "execution_count": 14,
   "metadata": {},
   "outputs": [
    {
     "data": {
      "text/plain": [
       "OrderedDict([('learning_rate', 0.09296244240831063),\n",
       "             ('max_depth', 90),\n",
       "             ('min_samples_leaf', 80),\n",
       "             ('n_estimators', 470),\n",
       "             ('subsample', 0.4491499556331464)])"
      ]
     },
     "execution_count": 14,
     "metadata": {},
     "output_type": "execute_result"
    }
   ],
   "source": [
    "bayes_search.best_params_"
   ]
  },
  {
   "cell_type": "code",
   "execution_count": 15,
   "metadata": {},
   "outputs": [
    {
     "data": {
      "text/plain": [
       "defaultdict(list,\n",
       "            {'split0_test_score': [0.7828670370731062,\n",
       "              0.7970951972990217,\n",
       "              0.6985647816174341,\n",
       "              0.8240284005306244,\n",
       "              0.7967303318747108,\n",
       "              0.2159072376913017,\n",
       "              -3.1970984703439553,\n",
       "              0.7009576508563212,\n",
       "              0.8275617702966395,\n",
       "              0.12507737939325791],\n",
       "             'split1_test_score': [0.7751533949458744,\n",
       "              0.793051590841477,\n",
       "              0.7095974319474081,\n",
       "              0.8278273417499752,\n",
       "              0.7937889827160596,\n",
       "              0.22557539077217814,\n",
       "              -3.550705979563885,\n",
       "              0.6825974216136572,\n",
       "              0.8304023848062076,\n",
       "              0.1608436161692245],\n",
       "             'split2_test_score': [0.7786476828133466,\n",
       "              0.7964690572623523,\n",
       "              0.7049727960894905,\n",
       "              0.8252021497849207,\n",
       "              0.794326031324523,\n",
       "              0.2230696559834926,\n",
       "              -3.6490993424498868,\n",
       "              0.6836378206858285,\n",
       "              0.8322849123433603,\n",
       "              0.04350489157403792],\n",
       "             'mean_test_score': [0.7788893716107759,\n",
       "              0.7955386151342836,\n",
       "              0.7043783365514442,\n",
       "              0.82568596402184,\n",
       "              0.794948448638431,\n",
       "              0.2215174281489908,\n",
       "              -3.465634597452576,\n",
       "              0.6890642977186023,\n",
       "              0.8300830224820691,\n",
       "              0.10980862904550678],\n",
       "             'std_test_score': [0.0031537151449101365,\n",
       "              0.0017770725385940858,\n",
       "              0.004523632753488404,\n",
       "              0.0015881951515068918,\n",
       "              0.001278915218134489,\n",
       "              0.004096775515489116,\n",
       "              0.1940859811816693,\n",
       "              0.008420589615191647,\n",
       "              0.0019413933001730132,\n",
       "              0.049104956472795586],\n",
       "             'rank_test_score': [5, 3, 6, 2, 4, 8, 10, 7, 1, 9],\n",
       "             'mean_fit_time': [21.270194212595623,\n",
       "              3.1000912189483643,\n",
       "              1.152216116587321,\n",
       "              16.54651165008545,\n",
       "              1.251527468363444,\n",
       "              3.5707441171010337,\n",
       "              1.567191521326701,\n",
       "              0.1450176239013672,\n",
       "              9.702341636021933,\n",
       "              1.8479932149251301],\n",
       "             'std_fit_time': [0.18310535753156235,\n",
       "              0.03204931167057475,\n",
       "              0.011084037775645058,\n",
       "              0.1644860887380509,\n",
       "              0.0026113757890053138,\n",
       "              0.029828474643275767,\n",
       "              0.036678484656450946,\n",
       "              0.006527085165660036,\n",
       "              0.0623530624572173,\n",
       "              0.016979922902487447],\n",
       "             'mean_score_time': [0.21954242388407388,\n",
       "              0.07942438125610352,\n",
       "              0.03177563349405924,\n",
       "              0.15959413846333823,\n",
       "              0.040723562240600586,\n",
       "              0.07660921414693196,\n",
       "              0.041983445485432945,\n",
       "              0.008722543716430664,\n",
       "              0.15861932436625162,\n",
       "              0.09391069412231445],\n",
       "             'std_score_time': [0.016197443252716565,\n",
       "              0.0010352064602774263,\n",
       "              0.009680619608513978,\n",
       "              0.0012525401281759418,\n",
       "              0.00015172915415660084,\n",
       "              0.0025533233208232028,\n",
       "              0.003947081272222079,\n",
       "              0.00018352883456083897,\n",
       "              0.0035227267141550445,\n",
       "              0.0028856111577765134],\n",
       "             'param_learning_rate': [0.5314332007871952,\n",
       "              0.2591132903107754,\n",
       "              0.5291630503333754,\n",
       "              0.14827239213922055,\n",
       "              0.2332815142020347,\n",
       "              0.8383282161706477,\n",
       "              0.9671640936594155,\n",
       "              0.5109785573720659,\n",
       "              0.09296244240831063,\n",
       "              0.37016744042312194],\n",
       "             'param_max_depth': [68, 98, 7, 79, 25, 99, 76, 53, 90, 45],\n",
       "             'param_min_samples_leaf': [63,\n",
       "              91,\n",
       "              35,\n",
       "              48,\n",
       "              73,\n",
       "              74,\n",
       "              43,\n",
       "              72,\n",
       "              80,\n",
       "              27],\n",
       "             'param_n_estimators': [341,\n",
       "              320,\n",
       "              136,\n",
       "              255,\n",
       "              178,\n",
       "              269,\n",
       "              133,\n",
       "              62,\n",
       "              470,\n",
       "              409],\n",
       "             'param_subsample': [0.8588850878234839,\n",
       "              0.2632617317827186,\n",
       "              0.24122268915367379,\n",
       "              0.8180992382062117,\n",
       "              0.18191531554796275,\n",
       "              0.334086969680722,\n",
       "              0.23930783838959974,\n",
       "              0.053673021279772436,\n",
       "              0.4491499556331464,\n",
       "              0.07105226788767492],\n",
       "             'params': [OrderedDict([('learning_rate', 0.5314332007871952),\n",
       "                           ('max_depth', 68),\n",
       "                           ('min_samples_leaf', 63),\n",
       "                           ('n_estimators', 341),\n",
       "                           ('subsample', 0.8588850878234839)]),\n",
       "              OrderedDict([('learning_rate', 0.2591132903107754),\n",
       "                           ('max_depth', 98),\n",
       "                           ('min_samples_leaf', 91),\n",
       "                           ('n_estimators', 320),\n",
       "                           ('subsample', 0.2632617317827186)]),\n",
       "              OrderedDict([('learning_rate', 0.5291630503333754),\n",
       "                           ('max_depth', 7),\n",
       "                           ('min_samples_leaf', 35),\n",
       "                           ('n_estimators', 136),\n",
       "                           ('subsample', 0.24122268915367379)]),\n",
       "              OrderedDict([('learning_rate', 0.14827239213922055),\n",
       "                           ('max_depth', 79),\n",
       "                           ('min_samples_leaf', 48),\n",
       "                           ('n_estimators', 255),\n",
       "                           ('subsample', 0.8180992382062117)]),\n",
       "              OrderedDict([('learning_rate', 0.2332815142020347),\n",
       "                           ('max_depth', 25),\n",
       "                           ('min_samples_leaf', 73),\n",
       "                           ('n_estimators', 178),\n",
       "                           ('subsample', 0.18191531554796275)]),\n",
       "              OrderedDict([('learning_rate', 0.8383282161706477),\n",
       "                           ('max_depth', 99),\n",
       "                           ('min_samples_leaf', 74),\n",
       "                           ('n_estimators', 269),\n",
       "                           ('subsample', 0.334086969680722)]),\n",
       "              OrderedDict([('learning_rate', 0.9671640936594155),\n",
       "                           ('max_depth', 76),\n",
       "                           ('min_samples_leaf', 43),\n",
       "                           ('n_estimators', 133),\n",
       "                           ('subsample', 0.23930783838959974)]),\n",
       "              OrderedDict([('learning_rate', 0.5109785573720659),\n",
       "                           ('max_depth', 53),\n",
       "                           ('min_samples_leaf', 72),\n",
       "                           ('n_estimators', 62),\n",
       "                           ('subsample', 0.053673021279772436)]),\n",
       "              OrderedDict([('learning_rate', 0.09296244240831063),\n",
       "                           ('max_depth', 90),\n",
       "                           ('min_samples_leaf', 80),\n",
       "                           ('n_estimators', 470),\n",
       "                           ('subsample', 0.4491499556331464)]),\n",
       "              OrderedDict([('learning_rate', 0.37016744042312194),\n",
       "                           ('max_depth', 45),\n",
       "                           ('min_samples_leaf', 27),\n",
       "                           ('n_estimators', 409),\n",
       "                           ('subsample', 0.07105226788767492)])]})"
      ]
     },
     "execution_count": 15,
     "metadata": {},
     "output_type": "execute_result"
    }
   ],
   "source": [
    "bayes_search.cv_results_"
   ]
  },
  {
   "cell_type": "code",
   "execution_count": 16,
   "metadata": {},
   "outputs": [
    {
     "data": {
      "text/plain": [
       "dict_keys(['split0_test_score', 'split1_test_score', 'split2_test_score', 'mean_test_score', 'std_test_score', 'rank_test_score', 'mean_fit_time', 'std_fit_time', 'mean_score_time', 'std_score_time', 'param_learning_rate', 'param_max_depth', 'param_min_samples_leaf', 'param_n_estimators', 'param_subsample', 'params'])"
      ]
     },
     "execution_count": 16,
     "metadata": {},
     "output_type": "execute_result"
    }
   ],
   "source": [
    "bayes_search.cv_results_.keys()"
   ]
  },
  {
   "cell_type": "code",
   "execution_count": 17,
   "metadata": {},
   "outputs": [
    {
     "data": {
      "text/plain": [
       "[21.270194212595623,\n",
       " 3.1000912189483643,\n",
       " 1.152216116587321,\n",
       " 16.54651165008545,\n",
       " 1.251527468363444,\n",
       " 3.5707441171010337,\n",
       " 1.567191521326701,\n",
       " 0.1450176239013672,\n",
       " 9.702341636021933,\n",
       " 1.8479932149251301]"
      ]
     },
     "execution_count": 17,
     "metadata": {},
     "output_type": "execute_result"
    }
   ],
   "source": [
    "bayes_search.cv_results_['mean_fit_time']"
   ]
  },
  {
   "cell_type": "code",
   "execution_count": 20,
   "metadata": {},
   "outputs": [
    {
     "data": {
      "image/png": "[encoded data removed]",
      "text/plain": [
       "<Figure size 432x288 with 1 Axes>"
      ]
     },
     "metadata": {
      "needs_background": "light"
     },
     "output_type": "display_data"
    }
   ],
   "source": [
    "import matplotlib.pyplot as plt\n",
    "\n",
    "plt.plot(range(1, 11), bayes_search.cv_results_['mean_test_score'], '--.')\n",
    "plt.show()"
   ]
  },
  {
   "cell_type": "markdown",
   "metadata": {},
   "source": [
    "Explored a space that wasn't so good, so went away to a different space!"
   ]
  }
 ],
 "metadata": {
  "kernelspec": {
   "display_name": "Python 3",
   "language": "python",
   "name": "python3"
  },
  "language_info": {
   "codemirror_mode": {
    "name": "ipython",
    "version": 3
   },
   "file_extension": ".py",
   "mimetype": "text/x-python",
   "name": "python",
   "nbconvert_exporter": "python",
   "pygments_lexer": "ipython3",
   "version": "3.7.3"
  }
 },
 "nbformat": 4,
 "nbformat_minor": 2
}
